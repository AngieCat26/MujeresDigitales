{
  "nbformat": 4,
  "nbformat_minor": 0,
  "metadata": {
    "colab": {
      "name": "tarea2.ipynb",
      "provenance": [],
      "authorship_tag": "ABX9TyN0J7fQpBv7XmS8uUgB+fbm",
      "include_colab_link": true
    },
    "kernelspec": {
      "name": "python3",
      "display_name": "Python 3"
    },
    "language_info": {
      "name": "python"
    }
  },
  "cells": [
    {
      "cell_type": "markdown",
      "metadata": {
        "id": "view-in-github",
        "colab_type": "text"
      },
      "source": [
        "<a href=\"https://colab.research.google.com/github/AngieCat26/MujeresDigitales/blob/main/tarea2.ipynb\" target=\"_parent\"><img src=\"https://colab.research.google.com/assets/colab-badge.svg\" alt=\"Open In Colab\"/></a>"
      ]
    },
    {
      "cell_type": "markdown",
      "metadata": {
        "id": "SwdMnGe_tyAX"
      },
      "source": [
        "**EJERCICIO DE PRÁCTICA**\n",
        "\n",
        "El profesor de matemáticas desea conocer el promedio del estudiante Pepito donde sus notas son:\n",
        "\n",
        "1. 3.5\n",
        "2. 4.0\n",
        "3. 2.8\n",
        "\n",
        "También desea saber si su estudiante logró pasar la materia o no, para esto se debe tener en cuenta que la nota indicada para pasar la materia es de 4.0. Si tiene menos perderá.\n",
        "\n",
        "Como el profesor es buena gente desea saber si sacó más o menos de la nota adecuada (4.0)\n",
        "\n",
        "Finalmente pepito quiere saber cuánto le faltaba para poder pasar la materia "
      ]
    },
    {
      "cell_type": "code",
      "metadata": {
        "colab": {
          "base_uri": "https://localhost:8080/"
        },
        "id": "glu3QwRrvPtF",
        "outputId": "83f5e466-0c4a-4e1b-caaa-403c31d3c46c"
      },
      "source": [
        "suma = 3.5 + 4.0 + 2.8\n",
        "promedio = suma / 3\n",
        "promedioAdecuado = promedio == 4.0\n",
        "notaFaltante = promedio - 4.0\n",
        "\n",
        "print(\"el promedio del estudiante Pepito es: \", promedio)\n",
        "print(\"¿Pepito pasó la materia?\", promedioAdecuado)\n",
        "print (\"¿Pepito tuvo un promedio menor a 4.0?\", promedio < 4.0)\n",
        "print (\"a Pepito le faltó\", notaFaltante, \" para lograr una nota de 4.0 \" )\n"
      ],
      "execution_count": 7,
      "outputs": [
        {
          "output_type": "stream",
          "text": [
            "el promedio del estudiante Pepito es:  3.4333333333333336\n",
            "¿Pepito pasó la materia? False\n",
            "¿Pepito tuvo un promedio menor a 4.0? True\n",
            "a Pepito le faltó -0.5666666666666664  para lograr una nota de 4.0 \n"
          ],
          "name": "stdout"
        }
      ]
    }
  ]
}
{
  "nbformat": 4,
  "nbformat_minor": 0,
  "metadata": {
    "colab": {
      "name": "Taller semana 5.ipynb",
      "provenance": [],
      "collapsed_sections": [],
      "include_colab_link": true
    },
    "kernelspec": {
      "name": "python3",
      "display_name": "Python 3"
    },
    "language_info": {
      "name": "python"
    }
  },
  "cells": [
    {
      "cell_type": "markdown",
      "metadata": {
        "id": "view-in-github",
        "colab_type": "text"
      },
      "source": [
        "<a href=\"https://colab.research.google.com/github/AngieCat26/MujeresDigitales/blob/main/Taller_semana_5.ipynb\" target=\"_parent\"><img src=\"https://colab.research.google.com/assets/colab-badge.svg\" alt=\"Open In Colab\"/></a>"
      ]
    },
    {
      "cell_type": "markdown",
      "metadata": {
        "id": "POi23B_G6wnG"
      },
      "source": [
        "Un fanático de pokemones le pide analizar los datos de pokemones, para esto se le proporciona un conjunto de datos en archivo csv. Este fanático le pide a usted como analista investigar cuales son los pokemones con mayor ataque."
      ]
    },
    {
      "cell_type": "code",
      "metadata": {
        "id": "k7kCoay597D2"
      },
      "source": [
        "import pandas as pd\n",
        "# import matplotlib.pyplot as plt\n",
        "# import seaborn as sns\n",
        "# from scipy import stats"
      ],
      "execution_count": 3,
      "outputs": []
    },
    {
      "cell_type": "code",
      "metadata": {
        "id": "wx9ixLT6EmQv",
        "colab": {
          "base_uri": "https://localhost:8080/",
          "height": 504
        },
        "outputId": "3f5e76e2-5862-4bc5-c5a8-6b0bc1f91324"
      },
      "source": [
        "# Escriba su código aquí\n",
        "url = 'https://raw.githubusercontent.com/AngieCat26/MujeresDigitales/main/pokemon_data.csv'\n",
        "pk = pd.read_csv(url)\n",
        "pk"
      ],
      "execution_count": 4,
      "outputs": [
        {
          "output_type": "execute_result",
          "data": {
            "text/html": [
              "<div>\n",
              "<style scoped>\n",
              "    .dataframe tbody tr th:only-of-type {\n",
              "        vertical-align: middle;\n",
              "    }\n",
              "\n",
              "    .dataframe tbody tr th {\n",
              "        vertical-align: top;\n",
              "    }\n",
              "\n",
              "    .dataframe thead th {\n",
              "        text-align: right;\n",
              "    }\n",
              "</style>\n",
              "<table border=\"1\" class=\"dataframe\">\n",
              "  <thead>\n",
              "    <tr style=\"text-align: right;\">\n",
              "      <th></th>\n",
              "      <th>#</th>\n",
              "      <th>Name</th>\n",
              "      <th>Type 1</th>\n",
              "      <th>Type 2</th>\n",
              "      <th>HP</th>\n",
              "      <th>Attack</th>\n",
              "      <th>Defense</th>\n",
              "      <th>Sp. Atk</th>\n",
              "      <th>Sp. Def</th>\n",
              "      <th>Speed</th>\n",
              "      <th>Generation</th>\n",
              "      <th>Legendary</th>\n",
              "    </tr>\n",
              "  </thead>\n",
              "  <tbody>\n",
              "    <tr>\n",
              "      <th>0</th>\n",
              "      <td>1</td>\n",
              "      <td>Bulbasaur</td>\n",
              "      <td>Grass</td>\n",
              "      <td>Poison</td>\n",
              "      <td>45</td>\n",
              "      <td>49</td>\n",
              "      <td>49</td>\n",
              "      <td>65</td>\n",
              "      <td>65</td>\n",
              "      <td>45</td>\n",
              "      <td>1</td>\n",
              "      <td>False</td>\n",
              "    </tr>\n",
              "    <tr>\n",
              "      <th>1</th>\n",
              "      <td>2</td>\n",
              "      <td>Ivysaur</td>\n",
              "      <td>Grass</td>\n",
              "      <td>Poison</td>\n",
              "      <td>60</td>\n",
              "      <td>62</td>\n",
              "      <td>63</td>\n",
              "      <td>80</td>\n",
              "      <td>80</td>\n",
              "      <td>60</td>\n",
              "      <td>1</td>\n",
              "      <td>False</td>\n",
              "    </tr>\n",
              "    <tr>\n",
              "      <th>2</th>\n",
              "      <td>3</td>\n",
              "      <td>Venusaur</td>\n",
              "      <td>Grass</td>\n",
              "      <td>Poison</td>\n",
              "      <td>80</td>\n",
              "      <td>82</td>\n",
              "      <td>83</td>\n",
              "      <td>100</td>\n",
              "      <td>100</td>\n",
              "      <td>80</td>\n",
              "      <td>1</td>\n",
              "      <td>False</td>\n",
              "    </tr>\n",
              "    <tr>\n",
              "      <th>3</th>\n",
              "      <td>3</td>\n",
              "      <td>VenusaurMega Venusaur</td>\n",
              "      <td>Grass</td>\n",
              "      <td>Poison</td>\n",
              "      <td>80</td>\n",
              "      <td>100</td>\n",
              "      <td>123</td>\n",
              "      <td>122</td>\n",
              "      <td>120</td>\n",
              "      <td>80</td>\n",
              "      <td>1</td>\n",
              "      <td>False</td>\n",
              "    </tr>\n",
              "    <tr>\n",
              "      <th>4</th>\n",
              "      <td>4</td>\n",
              "      <td>Charmander</td>\n",
              "      <td>Fire</td>\n",
              "      <td>NaN</td>\n",
              "      <td>39</td>\n",
              "      <td>52</td>\n",
              "      <td>43</td>\n",
              "      <td>60</td>\n",
              "      <td>50</td>\n",
              "      <td>65</td>\n",
              "      <td>1</td>\n",
              "      <td>False</td>\n",
              "    </tr>\n",
              "    <tr>\n",
              "      <th>...</th>\n",
              "      <td>...</td>\n",
              "      <td>...</td>\n",
              "      <td>...</td>\n",
              "      <td>...</td>\n",
              "      <td>...</td>\n",
              "      <td>...</td>\n",
              "      <td>...</td>\n",
              "      <td>...</td>\n",
              "      <td>...</td>\n",
              "      <td>...</td>\n",
              "      <td>...</td>\n",
              "      <td>...</td>\n",
              "    </tr>\n",
              "    <tr>\n",
              "      <th>795</th>\n",
              "      <td>719</td>\n",
              "      <td>Diancie</td>\n",
              "      <td>Rock</td>\n",
              "      <td>Fairy</td>\n",
              "      <td>50</td>\n",
              "      <td>100</td>\n",
              "      <td>150</td>\n",
              "      <td>100</td>\n",
              "      <td>150</td>\n",
              "      <td>50</td>\n",
              "      <td>6</td>\n",
              "      <td>True</td>\n",
              "    </tr>\n",
              "    <tr>\n",
              "      <th>796</th>\n",
              "      <td>719</td>\n",
              "      <td>DiancieMega Diancie</td>\n",
              "      <td>Rock</td>\n",
              "      <td>Fairy</td>\n",
              "      <td>50</td>\n",
              "      <td>160</td>\n",
              "      <td>110</td>\n",
              "      <td>160</td>\n",
              "      <td>110</td>\n",
              "      <td>110</td>\n",
              "      <td>6</td>\n",
              "      <td>True</td>\n",
              "    </tr>\n",
              "    <tr>\n",
              "      <th>797</th>\n",
              "      <td>720</td>\n",
              "      <td>HoopaHoopa Confined</td>\n",
              "      <td>Psychic</td>\n",
              "      <td>Ghost</td>\n",
              "      <td>80</td>\n",
              "      <td>110</td>\n",
              "      <td>60</td>\n",
              "      <td>150</td>\n",
              "      <td>130</td>\n",
              "      <td>70</td>\n",
              "      <td>6</td>\n",
              "      <td>True</td>\n",
              "    </tr>\n",
              "    <tr>\n",
              "      <th>798</th>\n",
              "      <td>720</td>\n",
              "      <td>HoopaHoopa Unbound</td>\n",
              "      <td>Psychic</td>\n",
              "      <td>Dark</td>\n",
              "      <td>80</td>\n",
              "      <td>160</td>\n",
              "      <td>60</td>\n",
              "      <td>170</td>\n",
              "      <td>130</td>\n",
              "      <td>80</td>\n",
              "      <td>6</td>\n",
              "      <td>True</td>\n",
              "    </tr>\n",
              "    <tr>\n",
              "      <th>799</th>\n",
              "      <td>721</td>\n",
              "      <td>Volcanion</td>\n",
              "      <td>Fire</td>\n",
              "      <td>Water</td>\n",
              "      <td>80</td>\n",
              "      <td>110</td>\n",
              "      <td>120</td>\n",
              "      <td>130</td>\n",
              "      <td>90</td>\n",
              "      <td>70</td>\n",
              "      <td>6</td>\n",
              "      <td>True</td>\n",
              "    </tr>\n",
              "  </tbody>\n",
              "</table>\n",
              "<p>800 rows × 12 columns</p>\n",
              "</div>"
            ],
            "text/plain": [
              "       #                   Name   Type 1  ... Speed  Generation  Legendary\n",
              "0      1              Bulbasaur    Grass  ...    45           1      False\n",
              "1      2                Ivysaur    Grass  ...    60           1      False\n",
              "2      3               Venusaur    Grass  ...    80           1      False\n",
              "3      3  VenusaurMega Venusaur    Grass  ...    80           1      False\n",
              "4      4             Charmander     Fire  ...    65           1      False\n",
              "..   ...                    ...      ...  ...   ...         ...        ...\n",
              "795  719                Diancie     Rock  ...    50           6       True\n",
              "796  719    DiancieMega Diancie     Rock  ...   110           6       True\n",
              "797  720    HoopaHoopa Confined  Psychic  ...    70           6       True\n",
              "798  720     HoopaHoopa Unbound  Psychic  ...    80           6       True\n",
              "799  721              Volcanion     Fire  ...    70           6       True\n",
              "\n",
              "[800 rows x 12 columns]"
            ]
          },
          "metadata": {},
          "execution_count": 4
        }
      ]
    },
    {
      "cell_type": "markdown",
      "metadata": {
        "id": "WWVZnKFY9xsD"
      },
      "source": [
        "## Ejercicio 1:\n",
        "\n",
        "Calcule el promedio y la mediana del ataque de: \n",
        "1. Todos los pokemones\n",
        "2. Los pokemones agrupados por Legendary (es decir el promedio y mediana de pokemones legendarios y no legendarios)\n",
        "3. Los pokemones agrupados por Type 1"
      ]
    },
    {
      "cell_type": "code",
      "metadata": {
        "colab": {
          "base_uri": "https://localhost:8080/"
        },
        "id": "ajTaBgeHkCAo",
        "outputId": "bcd543aa-3647-4ed8-cce4-998feb1fc2af"
      },
      "source": [
        "#promedio y mediana\n",
        "\n",
        "\n",
        "mediana = pd.Series(pk['Attack'])\n",
        "mediana.median()\n",
        "promedio = pk['Attack'].mean()\n",
        "\n",
        "print(\"El promedio de Attack es de: \", promedio) \n",
        "print(\"La mediana de Attack es de: \", mediana.median())\n",
        "\n",
        "\n",
        "\n"
      ],
      "execution_count": 25,
      "outputs": [
        {
          "output_type": "stream",
          "name": "stdout",
          "text": [
            "El promedio de Attack es de:  79.00125\n",
            "La mediana de Attack es de:  75.0\n"
          ]
        }
      ]
    },
    {
      "cell_type": "code",
      "metadata": {
        "id": "S-Dkyq4cyYeN"
      },
      "source": [
        "#Promedio y mediana de los pokemones por Legendary\n",
        "\n",
        "group = pk.groupby('Legendary')\n",
        "lista = list(pk.groupby('Legendary'))\n",
        "\n"
      ],
      "execution_count": 41,
      "outputs": []
    },
    {
      "cell_type": "markdown",
      "metadata": {
        "id": "r_j5gHff06P1"
      },
      "source": [
        ""
      ]
    },
    {
      "cell_type": "markdown",
      "metadata": {
        "id": "icVwAqRB-71l"
      },
      "source": [
        "## Ejercicio 2:\n",
        "\n",
        "Grafique el ataque de los pokemones con un grafico boxplot para los siguientes casos:\n",
        "1. Todos los pokemones\n",
        "2. Los pokemones agrupados por Legendary (es decir el promedio y mediana de pokemones legendarios y no legendarios)\n",
        "3. Los pokemones agrupados por Type 1"
      ]
    },
    {
      "cell_type": "code",
      "metadata": {
        "colab": {
          "base_uri": "https://localhost:8080/",
          "height": 299
        },
        "id": "HNFQNey_A7T5",
        "outputId": "c82c1062-b55b-47c2-936b-7dc2327e7af6"
      },
      "source": [
        "import matplotlib\n",
        "matplotlib.style.use('ggplot')\n",
        "\n",
        "import matplotlib.pyplot as plt\n",
        "%matplotlib inline\n",
        "import seaborn as sb\n",
        "sb.boxplot(x=pk[\"Name\"], y=pk[\"Attack\"])\n",
        "\n"
      ],
      "execution_count": 47,
      "outputs": [
        {
          "output_type": "execute_result",
          "data": {
            "text/plain": [
              "<matplotlib.axes._subplots.AxesSubplot at 0x7fc2f1945110>"
            ]
          },
          "metadata": {},
          "execution_count": 47
        },
        {
          "output_type": "display_data",
          "data": {
            "image/png": "[encoded data removed]",
            "text/plain": [
              "<Figure size 432x288 with 1 Axes>"
            ]
          },
          "metadata": {
            "needs_background": "light"
          }
        }
      ]
    },
    {
      "cell_type": "markdown",
      "metadata": {
        "id": "tO65sHNiAmU9"
      },
      "source": [
        "## Ejercicio 3:\n",
        "\n",
        "Realice las siguientes pruebas de hipótesis:\n",
        "1. El promedio del ataque de los pokemones es mayor a 77\n",
        "2. El promedio del ataque de los pokemones legendarios es diferente a los no legendarios\n",
        "\n",
        "\n",
        "Y determine con un nivel de significancia del 5% (es decir $\\alpha$ = 0.05), si podemos rechazar o no las 3 hipótesis anteriores. "
      ]
    }
  ]
}
{
  "nbformat": 4,
  "nbformat_minor": 0,
  "metadata": {
    "colab": {
      "name": "Taller2.ipynb",
      "provenance": [],
      "authorship_tag": "ABX9TyPftNLijqij8WOpTbOhnG4n",
      "include_colab_link": true
    },
    "kernelspec": {
      "name": "python3",
      "display_name": "Python 3"
    },
    "language_info": {
      "name": "python"
    }
  },
  "cells": [
    {
      "cell_type": "markdown",
      "metadata": {
        "id": "view-in-github",
        "colab_type": "text"
      },
      "source": [
        "<a href=\"https://colab.research.google.com/github/AngieCat26/MujeresDigitales/blob/main/Taller2.ipynb\" target=\"_parent\"><img src=\"https://colab.research.google.com/assets/colab-badge.svg\" alt=\"Open In Colab\"/></a>"
      ]
    },
    {
      "cell_type": "code",
      "metadata": {
        "colab": {
          "base_uri": "https://localhost:8080/"
        },
        "id": "nU_OhMLhUuL2",
        "outputId": "3a9d5f87-bdb0-44b0-f870-9f9e555197b8"
      },
      "source": [
        "num = int(input(\"Digite la cantidad de vendedores \"))\n",
        "suma = 0\n",
        "promedio = 0\n",
        "mayor = 0\n",
        "menor = 0\n",
        "i = 1\n",
        "puntuacion = []\n",
        "while cantidad > 0 :\n",
        "     \n",
        "     punt = int(input(\"Ingrese la puntuacion del vendedor del 1 al 10 \"))\n",
        "     \n",
        "     puntuacion.append(punt)\n",
        "     i += 1\n",
        "     num -= 1\n",
        "     suma += punt \n",
        "     promedio = suma / punt\n",
        "\n",
        "     if num == 0 :\n",
        "        \n",
        "        mayor = max(puntuacion)\n",
        "        menor = min(puntuacion)\n",
        "        print(\"la mayor puntuación es de: \", mayor)\n",
        "        print(\"la menor puntuacion es de: \", menor)\n",
        "        print(\"El promedio total de las puntuaciones es de: \", promedio)\n",
        "\n",
        "        \n",
        "        break\n",
        "    \n",
        "\n"
      ],
      "execution_count": 61,
      "outputs": [
        {
          "output_type": "stream",
          "text": [
            "Digite la cantidad de vendedores 3\n",
            "Ingrese la puntuacion del vendedor del 1 al 10 10\n",
            "Ingrese la puntuacion del vendedor del 1 al 10 10\n",
            "Ingrese la puntuacion del vendedor del 1 al 10 10\n",
            "la mayor puntuación es de:  10\n",
            "la menor puntuacion es de:  10\n",
            "El promedio total de las puntuaciones es de:  3.0\n"
          ],
          "name": "stdout"
        }
      ]
    }
  ]
}
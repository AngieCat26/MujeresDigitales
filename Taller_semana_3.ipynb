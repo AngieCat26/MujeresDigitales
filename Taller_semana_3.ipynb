{
  "nbformat": 4,
  "nbformat_minor": 5,
  "metadata": {
    "kernelspec": {
      "display_name": "Python 3",
      "language": "python",
      "name": "python3"
    },
    "language_info": {
      "codemirror_mode": {
        "name": "ipython",
        "version": 3
      },
      "file_extension": ".py",
      "mimetype": "text/x-python",
      "name": "python",
      "nbconvert_exporter": "python",
      "pygments_lexer": "ipython3",
      "version": "3.8.11"
    },
    "colab": {
      "name": "Taller semana 3.ipynb",
      "provenance": [],
      "include_colab_link": true
    }
  },
  "cells": [
    {
      "cell_type": "markdown",
      "metadata": {
        "id": "view-in-github",
        "colab_type": "text"
      },
      "source": [
        "<a href=\"https://colab.research.google.com/github/AngieCat26/MujeresDigitales/blob/main/Taller_semana_3.ipynb\" target=\"_parent\"><img src=\"https://colab.research.google.com/assets/colab-badge.svg\" alt=\"Open In Colab\"/></a>"
      ]
    },
    {
      "cell_type": "markdown",
      "metadata": {
        "id": "08e8fc9c"
      },
      "source": [
        "# Taller semana 3"
      ],
      "id": "08e8fc9c"
    },
    {
      "cell_type": "markdown",
      "metadata": {
        "id": "eaa5a1ca"
      },
      "source": [
        "## Ejercicio 1:\n",
        "\n",
        "Cargue los datos del archivo ```pokemon_data.csv``` a un dataframe, cree una columna que se llame interes asignándole el valor False, luego cambie el valor de esta columna solo para los pokemon que sean legendarios (Legendary = True) y que el Type 1 sea fuego."
      ],
      "id": "eaa5a1ca"
    },
    {
      "cell_type": "markdown",
      "metadata": {
        "id": "QvVOE1sT1KL7"
      },
      "source": [
        "# Nueva sección"
      ],
      "id": "QvVOE1sT1KL7"
    },
    {
      "cell_type": "code",
      "metadata": {
        "id": "16aff8b8"
      },
      "source": [
        "import pandas as pd"
      ],
      "id": "16aff8b8",
      "execution_count": 12,
      "outputs": []
    },
    {
      "cell_type": "code",
      "metadata": {
        "colab": {
          "base_uri": "https://localhost:8080/"
        },
        "id": "8032ee74",
        "outputId": "04498aa2-ecb9-488d-f1cc-704a86110b9f"
      },
      "source": [
        "# Escriba su código aquí\n",
        "url = 'https://raw.githubusercontent.com/AngieCat26/MujeresDigitales/main/pokemon_data.csv'\n",
        "pk = pd.read_csv(url)\n",
        "pk[ 'interes'] = False\n",
        "\n",
        "pk.loc[pk[\"Legendary\"] == \"True\", \"interes\"] == True\n",
        "pk.loc[pk[\"Type 1\"] == \"Fire\", \"interes\"] == True\n"
      ],
      "id": "8032ee74",
      "execution_count": 28,
      "outputs": [
        {
          "output_type": "execute_result",
          "data": {
            "text/plain": [
              "4      False\n",
              "5      False\n",
              "6      False\n",
              "7      False\n",
              "8      False\n",
              "42     False\n",
              "43     False\n",
              "63     False\n",
              "64     False\n",
              "83     False\n",
              "84     False\n",
              "135    False\n",
              "147    False\n",
              "158    False\n",
              "169    False\n",
              "170    False\n",
              "171    False\n",
              "236    False\n",
              "237    False\n",
              "259    False\n",
              "263    False\n",
              "270    False\n",
              "276    False\n",
              "277    False\n",
              "278    False\n",
              "279    False\n",
              "352    False\n",
              "353    False\n",
              "354    False\n",
              "355    False\n",
              "435    False\n",
              "436    False\n",
              "437    False\n",
              "518    False\n",
              "542    False\n",
              "557    False\n",
              "558    False\n",
              "559    False\n",
              "572    False\n",
              "573    False\n",
              "614    False\n",
              "615    False\n",
              "616    False\n",
              "692    False\n",
              "721    False\n",
              "722    False\n",
              "723    False\n",
              "730    False\n",
              "731    False\n",
              "735    False\n",
              "736    False\n",
              "799    False\n",
              "Name: interes, dtype: bool"
            ]
          },
          "metadata": {},
          "execution_count": 28
        }
      ]
    },
    {
      "cell_type": "markdown",
      "metadata": {
        "id": "EpOZszW10uq3"
      },
      "source": [
        "# Nueva sección"
      ],
      "id": "EpOZszW10uq3"
    },
    {
      "cell_type": "markdown",
      "metadata": {
        "id": "da0f488d"
      },
      "source": [
        "## Ejercicio 2\n",
        "\n",
        "Con los datos de pokemones anteriores, escriba un código para sacar el promedio de la columna Attack agrupado por Type 1."
      ],
      "id": "da0f488d"
    },
    {
      "cell_type": "code",
      "metadata": {
        "id": "f4434c55"
      },
      "source": [
        "# Escriba su código aquí\n"
      ],
      "id": "f4434c55",
      "execution_count": null,
      "outputs": []
    },
    {
      "cell_type": "markdown",
      "metadata": {
        "id": "45f0cbc3"
      },
      "source": [
        "## Ejercicio 3\n",
        "\n",
        "Se le entregan los datos de movimientos de acciones en el archivo ```DUK.csv```, y se le pide que entregue el promedio de Open del 2015, es decir entre las fechas 2015-01-01 y 2015-12-31"
      ],
      "id": "45f0cbc3"
    },
    {
      "cell_type": "code",
      "metadata": {
        "id": "704ec036"
      },
      "source": [
        "# Escriba su código aquí\n"
      ],
      "id": "704ec036",
      "execution_count": null,
      "outputs": []
    }
  ]
}
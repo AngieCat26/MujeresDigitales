{
  "nbformat": 4,
  "nbformat_minor": 0,
  "metadata": {
    "colab": {
      "name": "Untitled9.ipynb",
      "provenance": [],
      "authorship_tag": "ABX9TyPH3qDg6TqqhAnpwPiFmgfg",
      "include_colab_link": true
    },
    "kernelspec": {
      "name": "python3",
      "display_name": "Python 3"
    },
    "language_info": {
      "name": "python"
    }
  },
  "cells": [
    {
      "cell_type": "markdown",
      "metadata": {
        "id": "view-in-github",
        "colab_type": "text"
      },
      "source": [
        "<a href=\"https://colab.research.google.com/github/AngieCat26/MujeresDigitales/blob/main/clase2.ipynb\" target=\"_parent\"><img src=\"https://colab.research.google.com/assets/colab-badge.svg\" alt=\"Open In Colab\"/></a>"
      ]
    },
    {
      "cell_type": "markdown",
      "metadata": {
        "id": "OwkYSlKtu-jf"
      },
      "source": [
        "**OPERADORES ARITMÉTICOS**\n",
        "\n",
        "los operadores permiten realizar diferentes procesos de calculo wn cualquier lengaje de progrmación.\n",
        "\n",
        "Los operadores más básicos son: \n",
        "1. suma\n",
        "2. resta\n",
        "3. multiplicación\n",
        "4. división\n"
      ]
    },
    {
      "cell_type": "markdown",
      "metadata": {
        "id": "AtnvpTDqvztH"
      },
      "source": [
        "**SUMA Y RESTA**\n",
        "\n",
        "Símbolo suma(+), resta (-) el cual se utilizará en medio de la declaración de las variables a **operar**"
      ]
    },
    {
      "cell_type": "code",
      "metadata": {
        "colab": {
          "base_uri": "https://localhost:8080/"
        },
        "id": "fL7oSdSKvrL_",
        "outputId": "a87c58d2-08eb-4c37-d472-50edea1f2a3e"
      },
      "source": [
        "print( 10 + 300)\n",
        "a = 20\n",
        "b = 35\n",
        "print( a - b)"
      ],
      "execution_count": 1,
      "outputs": [
        {
          "output_type": "stream",
          "text": [
            "310\n"
          ],
          "name": "stdout"
        }
      ]
    },
    {
      "cell_type": "code",
      "metadata": {
        "colab": {
          "base_uri": "https://localhost:8080/"
        },
        "id": "lacWvPoQwicf",
        "outputId": "fdfa0308-b006-4d34-baf8-3319872addfb"
      },
      "source": [
        "numeroBotella = 12\n",
        "print(numeroBotella + 8)"
      ],
      "execution_count": 4,
      "outputs": [
        {
          "output_type": "stream",
          "text": [
            "20\n"
          ],
          "name": "stdout"
        }
      ]
    },
    {
      "cell_type": "code",
      "metadata": {
        "colab": {
          "base_uri": "https://localhost:8080/"
        },
        "id": "5DbTwZb_w8KN",
        "outputId": "ed6e0812-3ad6-4813-d090-3485516d59bf"
      },
      "source": [
        "numeroBotella = 12\n",
        "numeroBotella = numeroBotella + 8\n",
        "print(numeroBotella)"
      ],
      "execution_count": 5,
      "outputs": [
        {
          "output_type": "stream",
          "text": [
            "20\n"
          ],
          "name": "stdout"
        }
      ]
    },
    {
      "cell_type": "markdown",
      "metadata": {
        "id": "pvBq-ZGOxY-6"
      },
      "source": [
        "**SUMAS ENTRE LOS DIFERENTES TIPOS DE VARIABLE**\n",
        "\n",
        "recordemos los tipos de variables vistos en la clase anterior\n",
        "1. Declaración de variable númericas enteros \n",
        "2. Flotantes (incorpora y flexibiliza los decimales)\n",
        "3. Tipo de cadena\n"
      ]
    },
    {
      "cell_type": "code",
      "metadata": {
        "colab": {
          "base_uri": "https://localhost:8080/"
        },
        "id": "EtZKNhoXxws0",
        "outputId": "a633180e-af88-43c4-b80f-b68ebb3eda2e"
      },
      "source": [
        "x = 100\n",
        "y = 24.5\n",
        "print(type(x + y))"
      ],
      "execution_count": 6,
      "outputs": [
        {
          "output_type": "stream",
          "text": [
            "<class 'float'>\n"
          ],
          "name": "stdout"
        }
      ]
    },
    {
      "cell_type": "code",
      "metadata": {
        "colab": {
          "base_uri": "https://localhost:8080/"
        },
        "id": "fDtxjslFyHex",
        "outputId": "4c908ade-964e-4270-b30b-e3145fdfbf42"
      },
      "source": [
        "x = \"quiero\"\n",
        "y = \"un celular\"\n",
        "print( x + \" \" + y)"
      ],
      "execution_count": 7,
      "outputs": [
        {
          "output_type": "stream",
          "text": [
            "quiero un celular\n"
          ],
          "name": "stdout"
        }
      ]
    },
    {
      "cell_type": "code",
      "metadata": {
        "colab": {
          "base_uri": "https://localhost:8080/"
        },
        "id": "woJ_zyZdysyz",
        "outputId": "c6e00639-8b9b-418b-9ab1-2d4cf6bc72fa"
      },
      "source": [
        "x = 235\n",
        "y = 400\n",
        "print ( x - y )"
      ],
      "execution_count": 8,
      "outputs": [
        {
          "output_type": "stream",
          "text": [
            "-165\n"
          ],
          "name": "stdout"
        }
      ]
    },
    {
      "cell_type": "code",
      "metadata": {
        "colab": {
          "base_uri": "https://localhost:8080/"
        },
        "id": "hGOmppRWzH2l",
        "outputId": "3ba6e91b-efdf-4e79-c455-a23bee24a033"
      },
      "source": [
        "x = 235.66\n",
        "y = 4\n",
        "print ( type (x - y) )"
      ],
      "execution_count": 9,
      "outputs": [
        {
          "output_type": "stream",
          "text": [
            "<class 'float'>\n"
          ],
          "name": "stdout"
        }
      ]
    },
    {
      "cell_type": "markdown",
      "metadata": {
        "id": "klR1FEcUzWuA"
      },
      "source": [
        "**IMPORTANTE**\n",
        "\n",
        "La resta no funciona directamente para variables de tipo caracter"
      ]
    },
    {
      "cell_type": "markdown",
      "metadata": {
        "id": "NzlpzSjL0tZU"
      },
      "source": [
        "**MULTIPLICACIÓN**"
      ]
    },
    {
      "cell_type": "code",
      "metadata": {
        "colab": {
          "base_uri": "https://localhost:8080/"
        },
        "id": "PtoeVoImzUVE",
        "outputId": "40963dbf-7b17-48f2-baf5-0af902b878ab"
      },
      "source": [
        "x = 5\n",
        "y = 6\n",
        "print(x * y)"
      ],
      "execution_count": 10,
      "outputs": [
        {
          "output_type": "stream",
          "text": [
            "30\n"
          ],
          "name": "stdout"
        }
      ]
    },
    {
      "cell_type": "markdown",
      "metadata": {
        "id": "z0Z14cwt10Ro"
      },
      "source": [
        "**DIVISIÓN**"
      ]
    },
    {
      "cell_type": "code",
      "metadata": {
        "colab": {
          "base_uri": "https://localhost:8080/"
        },
        "id": "iAoYDOcG12_b",
        "outputId": "8a681b4c-3e01-41e2-b6d5-93b816865097"
      },
      "source": [
        "x = 20\n",
        "y= 4\n",
        "print( x / y)\n",
        "print ( 20 / 4)"
      ],
      "execution_count": 11,
      "outputs": [
        {
          "output_type": "stream",
          "text": [
            "5.0\n",
            "5.0\n"
          ],
          "name": "stdout"
        }
      ]
    },
    {
      "cell_type": "markdown",
      "metadata": {
        "id": "pxiSXBi64Y6e"
      },
      "source": [
        "**POTENCIACIÓN**\n",
        "\n",
        "En python se maneja el simbolo (**)"
      ]
    },
    {
      "cell_type": "code",
      "metadata": {
        "colab": {
          "base_uri": "https://localhost:8080/"
        },
        "id": "_z1garFa4muH",
        "outputId": "4c909dae-b0a7-480d-833e-017e62276404"
      },
      "source": [
        "print(3**3)"
      ],
      "execution_count": 12,
      "outputs": [
        {
          "output_type": "stream",
          "text": [
            "27\n"
          ],
          "name": "stdout"
        }
      ]
    },
    {
      "cell_type": "markdown",
      "metadata": {
        "id": "YvMyaTOQ4_I1"
      },
      "source": [
        "**MODULO**\n",
        "\n",
        "le llamamos modulo al residuo de la division "
      ]
    },
    {
      "cell_type": "code",
      "metadata": {
        "colab": {
          "base_uri": "https://localhost:8080/"
        },
        "id": "gu35yX7v4c9D",
        "outputId": "398ffc5b-8ae5-436b-e01b-7ed64773a326"
      },
      "source": [
        "print( 88 % 9)"
      ],
      "execution_count": 14,
      "outputs": [
        {
          "output_type": "stream",
          "text": [
            "7\n"
          ],
          "name": "stdout"
        }
      ]
    },
    {
      "cell_type": "markdown",
      "metadata": {
        "id": "xdJVl-jr9HvL"
      },
      "source": [
        "**IGUALDAD**"
      ]
    },
    {
      "cell_type": "code",
      "metadata": {
        "colab": {
          "base_uri": "https://localhost:8080/"
        },
        "id": "uIJyK92P9K6I",
        "outputId": "e6fae931-5a4e-4db4-dfea-5acc58b5bbab"
      },
      "source": [
        "x = \"casa\"\n",
        "y = \"caza\"\n",
        "print( x == y)"
      ],
      "execution_count": 16,
      "outputs": [
        {
          "output_type": "stream",
          "text": [
            "False\n"
          ],
          "name": "stdout"
        }
      ]
    },
    {
      "cell_type": "markdown",
      "metadata": {
        "id": "L5Vf2dT2ql96"
      },
      "source": [
        "**DIFERENCIA**\n",
        "\n",
        "A diferencia del operador de igualdad, el simbolo esta combinado por el simbolo de admiracion, es decir (!=)"
      ]
    },
    {
      "cell_type": "code",
      "metadata": {
        "colab": {
          "base_uri": "https://localhost:8080/"
        },
        "id": "7S8BeISMqr-z",
        "outputId": "340667d3-3ab6-4aa2-9a06-869bb9548e25"
      },
      "source": [
        "\n",
        "x=\"casa\"\n",
        "z=\"casa\"\n",
        "print(x!=z)"
      ],
      "execution_count": 2,
      "outputs": [
        {
          "output_type": "stream",
          "text": [
            "False\n"
          ],
          "name": "stdout"
        }
      ]
    },
    {
      "cell_type": "markdown",
      "metadata": {
        "id": "qRDsHQEeq3fh"
      },
      "source": [
        "**Diferencia mayor que**\n",
        "\n",
        "simbolo en python (>) Siempre comparativa se designa cual es el menor o el mayor por el valor que esta a la izquierda en la operacion.\n"
      ]
    },
    {
      "cell_type": "code",
      "metadata": {
        "colab": {
          "base_uri": "https://localhost:8080/"
        },
        "id": "rlK7iF2Gq8nb",
        "outputId": "f2f23fba-39d2-4d72-8f8e-d8883d37c95f"
      },
      "source": [
        "print(30>29.8)\n",
        "print(20>10)"
      ],
      "execution_count": 3,
      "outputs": [
        {
          "output_type": "stream",
          "text": [
            "True\n",
            "True\n"
          ],
          "name": "stdout"
        }
      ]
    },
    {
      "cell_type": "markdown",
      "metadata": {
        "id": "FPCXpLHFrA_4"
      },
      "source": [
        "Caso contario,el simbolo es menor (<)\n"
      ]
    },
    {
      "cell_type": "code",
      "metadata": {
        "id": "DEfSjg0arHFO"
      },
      "source": [
        "x=4\n",
        "y=3\n",
        "print(x<y)"
      ],
      "execution_count": null,
      "outputs": []
    },
    {
      "cell_type": "markdown",
      "metadata": {
        "id": "x_DxJkZMrMAk"
      },
      "source": [
        "**Mayor o igual que**\n",
        "\n",
        "Es similar al mayor que, con la diferencia de que la forma en que dara el resultado verdadero es si ambos numeros son iguales y flexibiliza dado verdadero de igual forma si el valor de la i zquierda es mayor que el de la derecha. El simbol es (>=)\n"
      ]
    },
    {
      "cell_type": "code",
      "metadata": {
        "id": "gkHw8TuerPAy"
      },
      "source": [
        "x=10\n",
        "y=5\n",
        "print(x>=y)"
      ],
      "execution_count": null,
      "outputs": []
    },
    {
      "cell_type": "markdown",
      "metadata": {
        "id": "jtzPlWS2rUCl"
      },
      "source": [
        "Menor o igual que\n",
        "\n",
        "El simbolo es (<=)"
      ]
    },
    {
      "cell_type": "code",
      "metadata": {
        "id": "dNsFD351rZD3"
      },
      "source": [
        "c=45\n",
        "print(c<46)"
      ],
      "execution_count": null,
      "outputs": []
    },
    {
      "cell_type": "markdown",
      "metadata": {
        "id": "Fx2Cu7ZMrcGm"
      },
      "source": [
        "Tener en cuenta en compraciones los resultados que nos arroja siempre es de tipo booleano es decir:True or False\n"
      ]
    },
    {
      "cell_type": "markdown",
      "metadata": {
        "id": "xxyL5b1hrf9a"
      },
      "source": [
        "**Operadores logicos**\n",
        "\n",
        "python incluye tres operadores logicos basicos base:\n",
        "\n",
        "AND(y)\n",
        "OR(O)\n",
        "NOT(no )\n",
        "Los operadores logicos funcionan solo con valores o variables booleanas, asu vez devuelven valores booleanos"
      ]
    },
    {
      "cell_type": "markdown",
      "metadata": {
        "id": "56Rxhl_crlk2"
      },
      "source": [
        "**Operador AND**\n",
        "\n",
        "Este operador solo devolvera verdadero si ambos valores lo son. ¿Como usar el operador AND? Para usar este operador basta con escribir un valñor booleano, luego, la palabra \"and\" y por ultimo otro valor booleano"
      ]
    },
    {
      "cell_type": "code",
      "metadata": {
        "colab": {
          "base_uri": "https://localhost:8080/"
        },
        "id": "p7AL2a7Hrp02",
        "outputId": "0db05a75-81e5-41e9-cacb-bce2de390d83"
      },
      "source": [
        "print(True and False)"
      ],
      "execution_count": 4,
      "outputs": [
        {
          "output_type": "stream",
          "text": [
            "False\n"
          ],
          "name": "stdout"
        }
      ]
    },
    {
      "cell_type": "markdown",
      "metadata": {
        "id": "4h8kalkRry6u"
      },
      "source": [
        "Ejemplo 2 de contextualizacion\n",
        "\n",
        "True and True = True\n",
        "True and True = False\n",
        "True and True = False\n",
        "True and True = False"
      ]
    },
    {
      "cell_type": "markdown",
      "metadata": {
        "id": "plwf2YXtr2FO"
      },
      "source": [
        "**Operador OR**\n",
        "\n",
        "devuelve verdadero o falso si todos los valores son del mismo tipo booleano\n",
        "True OR True = True\n",
        "True OR false = true\n",
        "false OR true = true\n",
        "Ejemplo de contextualizacion de OR:"
      ]
    },
    {
      "cell_type": "code",
      "metadata": {
        "colab": {
          "base_uri": "https://localhost:8080/"
        },
        "id": "puw2dfYFsAaV",
        "outputId": "8f5264cf-e3f0-41dd-ca15-03d1092c97d5"
      },
      "source": [
        "a = 3\n",
        "b= 2\n",
        "print(a>4 or a == 4)\n",
        "print(b==b and a>=b)"
      ],
      "execution_count": 5,
      "outputs": [
        {
          "output_type": "stream",
          "text": [
            "False\n",
            "True\n"
          ],
          "name": "stdout"
        }
      ]
    },
    {
      "cell_type": "markdown",
      "metadata": {
        "id": "0AZEQxMAsFJZ"
      },
      "source": [
        "Operador NOT\n",
        "\n",
        "Este operador es de negacion, en español \"No\". Este operador es muy especial, dado que por si solo no sirve para hacer ninguna operacion, lo unico que h ace es negar, o en palabras mas simples, invertir el valor booleano que viene despues de el\n"
      ]
    },
    {
      "cell_type": "code",
      "metadata": {
        "id": "N_q4Q0IOsIiV"
      },
      "source": [
        "print(not False)\n",
        "print(not True)"
      ],
      "execution_count": null,
      "outputs": []
    },
    {
      "cell_type": "markdown",
      "metadata": {
        "id": "7RO4SyigsJmo"
      },
      "source": [
        "**PRECEDENCIA DE OPERADORES**\n",
        "\n",
        "Es muy importante manejar el orden de las operaciones al realizarlas, para no caer en problemas de codigo error.\n",
        "\n",
        "El orden debe ser:\n",
        "\n",
        "De izquierda a derecha\n",
        "Parentesis\n",
        "Potenciacion o radicacion\n",
        "Multiplicacion y division\n",
        "Suma y Resta\n",
        "Ejemplo: 4-2(10)=\n",
        "\n",
        "primero el parentesis: 4-2*10=\n",
        "se continua con la multiplicacion 4-20=\n",
        "por ultimo la resta: 4-20=16\n",
        "¿cual crees que es el resultado de la siguiente operacion?"
      ]
    },
    {
      "cell_type": "code",
      "metadata": {
        "id": "1XvJMu-GsQYi"
      },
      "source": [
        "a=False\n",
        "b=True\n",
        "c=True\n",
        "\n",
        "print(not c and (a or b))\n",
        "False"
      ],
      "execution_count": null,
      "outputs": []
    },
    {
      "cell_type": "markdown",
      "metadata": {
        "id": "I-r_q9kwsVm4"
      },
      "source": [
        "**RESUMEN**\n",
        "\n",
        "Aplicacion de ley conmutativa: solo para suma y resta (Operadores basicos )\n",
        "Los resultados con operadores logicos son de tipo Booleano\n",
        "NO se puede realizar resta entre variables de tipo cadena (El procedimiento si abarca numeros es la conversion desde el inicio).\n",
        "si aplicamo sel condicional AND, para que el resultado sea TRUE, la unica forma es que ambos valores sean verdaderos.\n",
        "En cambio con el OR, si cumple que alguno de los dos valores son TRUE, el resultado sera TRUE."
      ]
    }
  ]
}
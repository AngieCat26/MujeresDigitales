{
  "nbformat": 4,
  "nbformat_minor": 0,
  "metadata": {
    "colab": {
      "name": "Untitled7.ipynb",
      "provenance": [],
      "authorship_tag": "ABX9TyM6Pu4P4uBpi0WtQIhpWtQQ",
      "include_colab_link": true
    },
    "kernelspec": {
      "name": "python3",
      "display_name": "Python 3"
    },
    "language_info": {
      "name": "python"
    }
  },
  "cells": [
    {
      "cell_type": "markdown",
      "metadata": {
        "id": "view-in-github",
        "colab_type": "text"
      },
      "source": [
        "<a href=\"https://colab.research.google.com/github/AngieCat26/MujeresDigitales/blob/main/Clase1.ipynb\" target=\"_parent\"><img src=\"https://colab.research.google.com/assets/colab-badge.svg\" alt=\"Open In Colab\"/></a>"
      ]
    },
    {
      "cell_type": "code",
      "metadata": {
        "id": "99ZnB7i56QWk"
      },
      "source": [
        ""
      ],
      "execution_count": null,
      "outputs": []
    },
    {
      "cell_type": "markdown",
      "metadata": {
        "id": "JYXGiADa6bVN"
      },
      "source": [
        "**Introdcuccion**\n",
        "--\n",
        "\n",
        "para manejar un codigo limpio en python:\n",
        "podemos eguri las recomendaciones\n",
        "1. Manejar siempre en minuscula\n",
        "2. se le puede añadir numeros\n",
        "3. Aparecer errores si no estan seguidos la declaracion de la variable con el numero asignado, es decir. Ejemplo : ana1(correcto) ana 1(incorrecto)\n",
        "\n",
        "En python hay varios tipos d datos compuestos y estan disponibles por defecto en los interpretes.\n",
        "**¿de que tipos?**\n",
        "\n",
        "1. Numericos\n",
        "2. Secuencias\n",
        "3. Mapeos\n",
        "4. Conjuntos usados para agrupar otros valores\n",
        "\n",
        "**Diferencia entre constante y variable**\n",
        "en matematica llamamos constante a una magnitud que no cambia con el paso del tiempo.\n",
        "Ejemplo: compatibilidad:Gastos fijos_Muebles de oficina\n",
        "Ejemplo 2: 6\n",
        "\n",
        "por otro lado el concepto de variable, como cantidad que es susceptible a tomar distintos valores numericos.\n",
        "**Ejemplo**\n"
      ]
    },
    {
      "cell_type": "markdown",
      "metadata": {
        "id": "3zHWxCDY6kRH"
      },
      "source": [
        "**Tipos de datos**\n",
        "---\n",
        "**Enteros:**\n",
        "son los numeros que no tienen decimales\n",
        "pueden ser positivos y negativos"
      ]
    },
    {
      "cell_type": "code",
      "metadata": {
        "id": "KTZWnzpH6lj1"
      },
      "source": [
        "a = int(3.964)\n",
        "print(a)"
      ],
      "execution_count": null,
      "outputs": []
    },
    {
      "cell_type": "code",
      "metadata": {
        "id": "p9gjwh6O6rJW"
      },
      "source": [
        "b=long(3)\n",
        "print(b,type(b))"
      ],
      "execution_count": null,
      "outputs": []
    },
    {
      "cell_type": "markdown",
      "metadata": {
        "id": "BMlGkvOY6t_O"
      },
      "source": [
        "el comando int es para hacer alsion a numeros enteros.A parte el comando float permite valores con decimales."
      ]
    },
    {
      "cell_type": "code",
      "metadata": {
        "id": "hihrJByp6wsM"
      },
      "source": [
        "b=float(8.23)\n",
        "print(b)\n"
      ],
      "execution_count": null,
      "outputs": []
    },
    {
      "cell_type": "markdown",
      "metadata": {
        "id": "VvM8yB-I62BS"
      },
      "source": [
        "Las cadenas son texto encerrado entre comillas (simples o dobles) y se pueden conformar de diferentes caracteres (Numericos, Albeticos, Especiales #$+*%). Tener en cuenta, las cadenasadmiten operadores como la suma y la resta. (Variable String)"
      ]
    },
    {
      "cell_type": "code",
      "metadata": {
        "id": "iB4mzi3k64uq"
      },
      "source": [
        "val1=\"Hola mundo\"\n",
        "print(val1)\n",
        "\n",
        "val2=\"Ana\"\n",
        "print(val2)"
      ],
      "execution_count": null,
      "outputs": []
    },
    {
      "cell_type": "code",
      "metadata": {
        "id": "a6-hr4Yl68zA"
      },
      "source": [
        "n=\"Aprender\"\n",
        "z=\"python\"\n",
        "w=\"Aprender python\"\n",
        "nz=n+\"\"+z\n",
        "print(w) \n",
        "\n",
        "q=\"5\"\n",
        "p=\"2\"\n",
        "b=int(q)\n",
        "c=int(p)\n",
        "print(b-c)"
      ],
      "execution_count": null,
      "outputs": []
    },
    {
      "cell_type": "markdown",
      "metadata": {
        "id": "sfjwb7lj6_rp"
      },
      "source": [
        "**Tipo Bolleanos**\n",
        "\n",
        "---\n",
        "Este tipo de variable solo tendra un valor de Verdadero o falso.\n",
        "**Nota:**\n",
        "son valores muy usados en condiciones y bucless.\n"
      ]
    },
    {
      "cell_type": "code",
      "metadata": {
        "id": "fLHnsnFl7C63"
      },
      "source": [
        "lola = False\n",
        "print(\"El valor es verdadero:\",lola,\" el cual es de tipo\", type(lola))"
      ],
      "execution_count": null,
      "outputs": []
    },
    {
      "cell_type": "code",
      "metadata": {
        "id": "iU8oc3XB7E7f"
      },
      "source": [
        "lola = True\n",
        "print(\"El valor es verdadero:\",lola,\" el cual es de tipo\", type(lola))"
      ],
      "execution_count": null,
      "outputs": []
    },
    {
      "cell_type": "markdown",
      "metadata": {
        "id": "49NC4kzI7KTD"
      },
      "source": [
        "```\n",
        "# Tiene formato de código\n",
        "```\n",
        "\n",
        "python cuenta con tipos de datos que admiten colecciones:\n",
        "1. Listas\n",
        "2. tuplas\n",
        "3. diccionarios\n",
        "\n",
        "**Tipos de conjuntoss:**\n",
        "\n",
        "son una conexion de datos sin elementos que se repiten:\n"
      ]
    },
    {
      "cell_type": "code",
      "metadata": {
        "id": "3cqJs73c7P8v"
      },
      "source": [
        "fru='pera','manzana','naranja'\n",
        "color='morado', 'blanco', 'azul'\n",
        "print(fru,color)"
      ],
      "execution_count": null,
      "outputs": []
    },
    {
      "cell_type": "markdown",
      "metadata": {
        "id": "G07Tn9gD7SiC"
      },
      "source": [
        "**Tipo listas**\n",
        "\n",
        "---\n",
        "son listas l que almacenan vectores. \n",
        "las listan empiezan desde la posicion 0 \n",
        "Ejemplo de lista en python:\n"
      ]
    },
    {
      "cell_type": "code",
      "metadata": {
        "id": "1VkCLGUs7UzP"
      },
      "source": [
        "ines=['5','uva','lila','perro','celular','micro','botella','tetero','10']\n",
        "print(ines)\n",
        "fe=ines[1]\n",
        "fe = ines [0:2]  \n",
        "print(fe)"
      ],
      "execution_count": null,
      "outputs": []
    },
    {
      "cell_type": "markdown",
      "metadata": {
        "id": "oFjSQFZq7YCN"
      },
      "source": [
        "**Tipo Tuplas**\n",
        "\n",
        "---\n",
        "Es una lista que no se puede modificar despue de la creacion de esta:\n",
        "Tuplas anidadas: Agrupacion(Tuplas)."
      ]
    },
    {
      "cell_type": "code",
      "metadata": {
        "id": "IdwByPkn7bIt"
      },
      "source": [
        "tupla=23,28,'hola'\n",
        "print(tupla)\n",
        "otra=tupla,(1,2,3,4)\n",
        "print(otra)"
      ],
      "execution_count": null,
      "outputs": []
    },
    {
      "cell_type": "markdown",
      "metadata": {
        "id": "NhANC5OZ7feG"
      },
      "source": [
        "**Tipo Diccionarios**\n",
        "\n",
        "---\n",
        "Define los datos uno a uno entre un campo(ID.Identificador-Clave) y un valor:\n"
      ]
    },
    {
      "cell_type": "code",
      "metadata": {
        "id": "Kye-PZ9c7g9H"
      },
      "source": [
        "datos_b={\n",
        "    \"nombres\":\"Diana\",\n",
        "    \"apellido\":\"Perea\",\n",
        "    \"Cedula\": \"2345671\",\n",
        "    \"estdo_civil\": \"Viuda\",\n",
        "    \"lugar _nacimiento\":\"Neiva\",\n",
        "    \"Fecha_nacimiento\":\"24/12/1980\",\n",
        "}\n",
        "print(\"ID del diccionario\", datos_b.keys())\n",
        "print(\"ID del diccionario\", datos_b.values())\n",
        "print(\"ID del diccionario\", datos_b.items())\n",
        "print(\"cedula de ciudadania:\", datos_b['fecha de nacimiento'])\n"
      ],
      "execution_count": null,
      "outputs": []
    },
    {
      "cell_type": "markdown",
      "metadata": {
        "id": "RUJKy0GP7kzB"
      },
      "source": [
        "**Ejemplo practico (Caracteristicas de los carros)**"
      ]
    },
    {
      "cell_type": "code",
      "metadata": {
        "id": "gXBQsDLr7m-9"
      },
      "source": [
        "carros_0={}\n",
        "carros_0['tam']='grande'\n",
        "carros_0['color']='negro'\n",
        "carros_0['marca']='Renault'\n",
        "carros_0['precio']=60\n",
        "\n",
        "carros_1={}\n",
        "carros_1['tam']='pequeño'\n",
        "carros_1['color']='blanco'\n",
        "carros_1['marca']='chevrolet'\n",
        "carros_1['precio']=37\n",
        "print(carros_0)\n",
        "print(carros_1)\n",
        "\n",
        "compra0= carros_0['precio'] \n",
        "compra1=carros_1['precio']\n",
        "compratotal=compra0 + compra1\n",
        "\n",
        "print(\"la compra total fue de:\", compratotal)\n"
      ],
      "execution_count": null,
      "outputs": []
    }
  ]
}
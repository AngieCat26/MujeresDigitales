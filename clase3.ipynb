{
  "nbformat": 4,
  "nbformat_minor": 0,
  "metadata": {
    "colab": {
      "name": "Untitled9.ipynb",
      "provenance": [],
      "authorship_tag": "ABX9TyOT1tVNWykP34/PjJeCivqW",
      "include_colab_link": true
    },
    "kernelspec": {
      "name": "python3",
      "display_name": "Python 3"
    },
    "language_info": {
      "name": "python"
    }
  },
  "cells": [
    {
      "cell_type": "markdown",
      "metadata": {
        "id": "view-in-github",
        "colab_type": "text"
      },
      "source": [
        "<a href=\"https://colab.research.google.com/github/AngieCat26/MujeresDigitales/blob/main/clase3.ipynb\" target=\"_parent\"><img src=\"https://colab.research.google.com/assets/colab-badge.svg\" alt=\"Open In Colab\"/></a>"
      ]
    },
    {
      "cell_type": "markdown",
      "metadata": {
        "id": "-n3WWgb45Irs"
      },
      "source": [
        "**ESTRUCTURA CONDICIONAL**\n",
        "\n",
        "---\n",
        "Al momento de construir una instrucción condicional se deberá comprender quue dichas instruciiones están diseñadas para ayudar en la toma de decisiones:\n",
        "\n",
        "Ejemplo:\n",
        "Si pedro va a la tienda por la izquierda llegará más rápido, si no se demorará más. \n",
        "\n",
        "Existen varios tipos de instrucciones, algunos pueden ser simples y otros múltiples \n",
        "1. Verdadero \n",
        "2. Falso\n",
        "\n",
        "En Python tales resultados serian True o False\n"
      ]
    },
    {
      "cell_type": "markdown",
      "metadata": {
        "id": "GzSeGsAX6bSj"
      },
      "source": [
        "Para aplicar los condicionales que veremos a continuación debemos recordar los comando de operadores matemáticos vistos en clase anterior:\n",
        "\n",
        "1. Igualdas \n",
        "2. Diferencia\n",
        "3. Menor que\n",
        "4. Mayor a que\n",
        "5. Menor o igual que\n",
        "6. Mayor o igual que "
      ]
    },
    {
      "cell_type": "markdown",
      "metadata": {
        "id": "NG-1Jtm17O3t"
      },
      "source": [
        "En condiciones múltiplkes, podeos enlazar los operadores lógicos:\n",
        "1. And\n",
        "2. Or\n",
        "3. Not\n",
        "\n"
      ]
    },
    {
      "cell_type": "markdown",
      "metadata": {
        "id": "r5-qLhl878Fj"
      },
      "source": [
        "Para aplicar los operadores matemáticos y lógicos tenemos en cuenta lo que llamamos **DIAGRAMA DE FLUJOS**, esto nos permite una mayor organización de las ideas para la toma de decisiones "
      ]
    },
    {
      "cell_type": "markdown",
      "metadata": {
        "id": "c2jEAQhjBIpV"
      },
      "source": [
        "**EL COMANDO IF**\n",
        "\n",
        "Este comando permite evaluar si una sentencia es verdadera o falsa. Es decir, se ejecuta una acción establecida mediante un comando de instruccio o varias instrucciones inmediatanmente en las lineas siguientes a dicha condición\n"
      ]
    },
    {
      "cell_type": "code",
      "metadata": {
        "colab": {
          "base_uri": "https://localhost:8080/"
        },
        "id": "7eIT74WPBqDp",
        "outputId": "2e562c42-0eda-4be1-a3da-799402e2f4cd"
      },
      "source": [
        "num = int(input(\"Escribe un número cualquiera \"))\n",
        "\n",
        "if num == 200:\n",
        "  print(\"Escribiste 200\")"
      ],
      "execution_count": 9,
      "outputs": [
        {
          "output_type": "stream",
          "text": [
            "Escribe un número cualquiera 200\n",
            "Escribiste 200\n"
          ],
          "name": "stdout"
        }
      ]
    },
    {
      "cell_type": "markdown",
      "metadata": {
        "id": "lEUUFBpNCTFq"
      },
      "source": [
        "**EL COMANDO ELSE**\n",
        "\n",
        "Este comando permite relacionar las acciones que debería realizar en caso de que la condicion sea falsa"
      ]
    },
    {
      "cell_type": "code",
      "metadata": {
        "colab": {
          "base_uri": "https://localhost:8080/"
        },
        "id": "e7HFJmPPCj8J",
        "outputId": "bc3e2b17-cab7-477c-ecbf-197edb707407"
      },
      "source": [
        "num = int(input(\"Escribe un número cualquiera \"))\n",
        "if num == 200:\n",
        "  print (\"Escribiste 200\")\n",
        "else:\n",
        "  print(\"El número escrito no es 200\")\n"
      ],
      "execution_count": 2,
      "outputs": [
        {
          "output_type": "stream",
          "text": [
            "Escribe un número cualquiera 200\n",
            "El número escrito no es 200\n"
          ],
          "name": "stdout"
        }
      ]
    },
    {
      "cell_type": "markdown",
      "metadata": {
        "id": "9yPcBVJ6D9CH"
      },
      "source": [
        "**EL COMANDO ELIF**\n",
        "\n",
        "Significa \"sino, si\" y permite concatenar condicionales "
      ]
    },
    {
      "cell_type": "code",
      "metadata": {
        "id": "RXO5yJulEHx3"
      },
      "source": [
        "num = int(input(\"Escribe un número cualquiera \"))\n",
        "if num == 200:\n",
        "  print (\"Escribiste 200\")\n",
        "elif num > 200:\n",
        "  print(\"El número escrito es MAYOR  a 200\")\n",
        "else:\n",
        "  print(\"El número escrito no es 200\")"
      ],
      "execution_count": null,
      "outputs": []
    },
    {
      "cell_type": "markdown",
      "metadata": {
        "id": "ifLuts_9ISZs"
      },
      "source": [
        "**CONDICIONALES MÚLTIPLES**\n",
        "\n",
        "Cuando se presentan situaciones con más de una condición que depende unas a otras, estas se pueden tratar mediante las sentencias o comandos if, o mediante el manejo adecuado del comando elif. Sin embargo, en muchos casos cuando hay multiples condiciones, la programación necesita mayor cantidad de lineas de código \n",
        "\n",
        "En esos casos, es necesario, el uso de operadores lógicos como el AND y el OR"
      ]
    },
    {
      "cell_type": "code",
      "metadata": {
        "colab": {
          "base_uri": "https://localhost:8080/"
        },
        "id": "9r376qeWJUrI",
        "outputId": "b311e5ca-bae4-4a4a-c4e6-4a4f9c3ba510"
      },
      "source": [
        "x = int(input(\"valor\"))\n",
        "if 0 < x:\n",
        "  if x < 10:\n",
        "    print(\"x es un numero positivo \")"
      ],
      "execution_count": 10,
      "outputs": [
        {
          "output_type": "stream",
          "text": [
            "valor56\n"
          ],
          "name": "stdout"
        }
      ]
    },
    {
      "cell_type": "code",
      "metadata": {
        "colab": {
          "base_uri": "https://localhost:8080/",
          "height": 555
        },
        "id": "_Ndg1fDYJ7ea",
        "outputId": "8e24d0ed-65ec-45a6-fdce-f00ddad102ad"
      },
      "source": [
        "x = int(input(\"valor\"))\n",
        "if 0 < x and x < 10:\n",
        "  print(\"x es un numero de un solo digito\")"
      ],
      "execution_count": 11,
      "outputs": [
        {
          "output_type": "error",
          "ename": "KeyboardInterrupt",
          "evalue": "ignored",
          "traceback": [
            "\u001b[0;31m---------------------------------------------------------------------------\u001b[0m",
            "\u001b[0;31mKeyboardInterrupt\u001b[0m                         Traceback (most recent call last)",
            "\u001b[0;32m/usr/local/lib/python3.7/dist-packages/ipykernel/kernelbase.py\u001b[0m in \u001b[0;36m_input_request\u001b[0;34m(self, prompt, ident, parent, password)\u001b[0m\n\u001b[1;32m    728\u001b[0m             \u001b[0;32mtry\u001b[0m\u001b[0;34m:\u001b[0m\u001b[0;34m\u001b[0m\u001b[0;34m\u001b[0m\u001b[0m\n\u001b[0;32m--> 729\u001b[0;31m                 \u001b[0mident\u001b[0m\u001b[0;34m,\u001b[0m \u001b[0mreply\u001b[0m \u001b[0;34m=\u001b[0m \u001b[0mself\u001b[0m\u001b[0;34m.\u001b[0m\u001b[0msession\u001b[0m\u001b[0;34m.\u001b[0m\u001b[0mrecv\u001b[0m\u001b[0;34m(\u001b[0m\u001b[0mself\u001b[0m\u001b[0;34m.\u001b[0m\u001b[0mstdin_socket\u001b[0m\u001b[0;34m,\u001b[0m \u001b[0;36m0\u001b[0m\u001b[0;34m)\u001b[0m\u001b[0;34m\u001b[0m\u001b[0;34m\u001b[0m\u001b[0m\n\u001b[0m\u001b[1;32m    730\u001b[0m             \u001b[0;32mexcept\u001b[0m \u001b[0mException\u001b[0m\u001b[0;34m:\u001b[0m\u001b[0;34m\u001b[0m\u001b[0;34m\u001b[0m\u001b[0m\n",
            "\u001b[0;32m/usr/local/lib/python3.7/dist-packages/jupyter_client/session.py\u001b[0m in \u001b[0;36mrecv\u001b[0;34m(self, socket, mode, content, copy)\u001b[0m\n\u001b[1;32m    802\u001b[0m         \u001b[0;32mtry\u001b[0m\u001b[0;34m:\u001b[0m\u001b[0;34m\u001b[0m\u001b[0;34m\u001b[0m\u001b[0m\n\u001b[0;32m--> 803\u001b[0;31m             \u001b[0mmsg_list\u001b[0m \u001b[0;34m=\u001b[0m \u001b[0msocket\u001b[0m\u001b[0;34m.\u001b[0m\u001b[0mrecv_multipart\u001b[0m\u001b[0;34m(\u001b[0m\u001b[0mmode\u001b[0m\u001b[0;34m,\u001b[0m \u001b[0mcopy\u001b[0m\u001b[0;34m=\u001b[0m\u001b[0mcopy\u001b[0m\u001b[0;34m)\u001b[0m\u001b[0;34m\u001b[0m\u001b[0;34m\u001b[0m\u001b[0m\n\u001b[0m\u001b[1;32m    804\u001b[0m         \u001b[0;32mexcept\u001b[0m \u001b[0mzmq\u001b[0m\u001b[0;34m.\u001b[0m\u001b[0mZMQError\u001b[0m \u001b[0;32mas\u001b[0m \u001b[0me\u001b[0m\u001b[0;34m:\u001b[0m\u001b[0;34m\u001b[0m\u001b[0;34m\u001b[0m\u001b[0m\n",
            "\u001b[0;32m/usr/local/lib/python3.7/dist-packages/zmq/sugar/socket.py\u001b[0m in \u001b[0;36mrecv_multipart\u001b[0;34m(self, flags, copy, track)\u001b[0m\n\u001b[1;32m    582\u001b[0m         \"\"\"\n\u001b[0;32m--> 583\u001b[0;31m         \u001b[0mparts\u001b[0m \u001b[0;34m=\u001b[0m \u001b[0;34m[\u001b[0m\u001b[0mself\u001b[0m\u001b[0;34m.\u001b[0m\u001b[0mrecv\u001b[0m\u001b[0;34m(\u001b[0m\u001b[0mflags\u001b[0m\u001b[0;34m,\u001b[0m \u001b[0mcopy\u001b[0m\u001b[0;34m=\u001b[0m\u001b[0mcopy\u001b[0m\u001b[0;34m,\u001b[0m \u001b[0mtrack\u001b[0m\u001b[0;34m=\u001b[0m\u001b[0mtrack\u001b[0m\u001b[0;34m)\u001b[0m\u001b[0;34m]\u001b[0m\u001b[0;34m\u001b[0m\u001b[0;34m\u001b[0m\u001b[0m\n\u001b[0m\u001b[1;32m    584\u001b[0m         \u001b[0;31m# have first part already, only loop while more to receive\u001b[0m\u001b[0;34m\u001b[0m\u001b[0;34m\u001b[0m\u001b[0;34m\u001b[0m\u001b[0m\n",
            "\u001b[0;32mzmq/backend/cython/socket.pyx\u001b[0m in \u001b[0;36mzmq.backend.cython.socket.Socket.recv\u001b[0;34m()\u001b[0m\n",
            "\u001b[0;32mzmq/backend/cython/socket.pyx\u001b[0m in \u001b[0;36mzmq.backend.cython.socket.Socket.recv\u001b[0;34m()\u001b[0m\n",
            "\u001b[0;32mzmq/backend/cython/socket.pyx\u001b[0m in \u001b[0;36mzmq.backend.cython.socket._recv_copy\u001b[0;34m()\u001b[0m\n",
            "\u001b[0;32m/usr/local/lib/python3.7/dist-packages/zmq/backend/cython/checkrc.pxd\u001b[0m in \u001b[0;36mzmq.backend.cython.checkrc._check_rc\u001b[0;34m()\u001b[0m\n",
            "\u001b[0;31mKeyboardInterrupt\u001b[0m: ",
            "\nDuring handling of the above exception, another exception occurred:\n",
            "\u001b[0;31mKeyboardInterrupt\u001b[0m                         Traceback (most recent call last)",
            "\u001b[0;32m<ipython-input-11-135500724a0c>\u001b[0m in \u001b[0;36m<module>\u001b[0;34m()\u001b[0m\n\u001b[0;32m----> 1\u001b[0;31m \u001b[0mx\u001b[0m \u001b[0;34m=\u001b[0m \u001b[0mint\u001b[0m\u001b[0;34m(\u001b[0m\u001b[0minput\u001b[0m\u001b[0;34m(\u001b[0m\u001b[0;34m\"valor\"\u001b[0m\u001b[0;34m)\u001b[0m\u001b[0;34m)\u001b[0m\u001b[0;34m\u001b[0m\u001b[0;34m\u001b[0m\u001b[0m\n\u001b[0m\u001b[1;32m      2\u001b[0m \u001b[0;32mif\u001b[0m \u001b[0;36m0\u001b[0m \u001b[0;34m<\u001b[0m \u001b[0mx\u001b[0m \u001b[0;32mand\u001b[0m \u001b[0mx\u001b[0m \u001b[0;34m<\u001b[0m \u001b[0;36m10\u001b[0m\u001b[0;34m:\u001b[0m\u001b[0;34m\u001b[0m\u001b[0;34m\u001b[0m\u001b[0m\n\u001b[1;32m      3\u001b[0m   \u001b[0mprint\u001b[0m\u001b[0;34m(\u001b[0m\u001b[0;34m\"x es un numero de un solo digito\"\u001b[0m\u001b[0;34m)\u001b[0m\u001b[0;34m\u001b[0m\u001b[0;34m\u001b[0m\u001b[0m\n",
            "\u001b[0;32m/usr/local/lib/python3.7/dist-packages/ipykernel/kernelbase.py\u001b[0m in \u001b[0;36mraw_input\u001b[0;34m(self, prompt)\u001b[0m\n\u001b[1;32m    702\u001b[0m             \u001b[0mself\u001b[0m\u001b[0;34m.\u001b[0m\u001b[0m_parent_ident\u001b[0m\u001b[0;34m,\u001b[0m\u001b[0;34m\u001b[0m\u001b[0;34m\u001b[0m\u001b[0m\n\u001b[1;32m    703\u001b[0m             \u001b[0mself\u001b[0m\u001b[0;34m.\u001b[0m\u001b[0m_parent_header\u001b[0m\u001b[0;34m,\u001b[0m\u001b[0;34m\u001b[0m\u001b[0;34m\u001b[0m\u001b[0m\n\u001b[0;32m--> 704\u001b[0;31m             \u001b[0mpassword\u001b[0m\u001b[0;34m=\u001b[0m\u001b[0;32mFalse\u001b[0m\u001b[0;34m,\u001b[0m\u001b[0;34m\u001b[0m\u001b[0;34m\u001b[0m\u001b[0m\n\u001b[0m\u001b[1;32m    705\u001b[0m         )\n\u001b[1;32m    706\u001b[0m \u001b[0;34m\u001b[0m\u001b[0m\n",
            "\u001b[0;32m/usr/local/lib/python3.7/dist-packages/ipykernel/kernelbase.py\u001b[0m in \u001b[0;36m_input_request\u001b[0;34m(self, prompt, ident, parent, password)\u001b[0m\n\u001b[1;32m    732\u001b[0m             \u001b[0;32mexcept\u001b[0m \u001b[0mKeyboardInterrupt\u001b[0m\u001b[0;34m:\u001b[0m\u001b[0;34m\u001b[0m\u001b[0;34m\u001b[0m\u001b[0m\n\u001b[1;32m    733\u001b[0m                 \u001b[0;31m# re-raise KeyboardInterrupt, to truncate traceback\u001b[0m\u001b[0;34m\u001b[0m\u001b[0;34m\u001b[0m\u001b[0;34m\u001b[0m\u001b[0m\n\u001b[0;32m--> 734\u001b[0;31m                 \u001b[0;32mraise\u001b[0m \u001b[0mKeyboardInterrupt\u001b[0m\u001b[0;34m\u001b[0m\u001b[0;34m\u001b[0m\u001b[0m\n\u001b[0m\u001b[1;32m    735\u001b[0m             \u001b[0;32melse\u001b[0m\u001b[0;34m:\u001b[0m\u001b[0;34m\u001b[0m\u001b[0;34m\u001b[0m\u001b[0m\n\u001b[1;32m    736\u001b[0m                 \u001b[0;32mbreak\u001b[0m\u001b[0;34m\u001b[0m\u001b[0;34m\u001b[0m\u001b[0m\n",
            "\u001b[0;31mKeyboardInterrupt\u001b[0m: "
          ]
        }
      ]
    },
    {
      "cell_type": "markdown",
      "metadata": {
        "id": "SYAh4_0PLfge"
      },
      "source": [
        "Esta condición es la misma expresión booleana compuesta y la misma expresión condicional anidada "
      ]
    },
    {
      "cell_type": "markdown",
      "metadata": {
        "id": "e33EafZQNHgk"
      },
      "source": [
        "**ESTRUCTURAS DE CONTROL ITERATIVO**\n",
        "\n",
        "Las variables son claves en las estructuras de control iterativas, puesto que son el medio entre la iteracion de la condicion uq se está utilizando \n",
        "\n",
        "**¿QUÉ ES ITERACIÓN?**\n",
        "\n",
        "Iteracion es la consecucion del codigo tantas veces requiere hasta que se cumplen las condiciones establecidad\n",
        "\n",
        "*Banderas*\n",
        "son las variables que toman un valor preferiblemente binario, booleano e indican un estado \n",
        "Ejemplo\n"
      ]
    },
    {
      "cell_type": "code",
      "metadata": {
        "id": "bjsvzsorN5j5"
      },
      "source": [
        "suma = False\n",
        " total = 0\n",
        " a = 3\n",
        " B = 10\n",
        "\n",
        " if(suma == False):\n",
        "   total = a + b\n",
        "   suma = True "
      ],
      "execution_count": null,
      "outputs": []
    },
    {
      "cell_type": "code",
      "metadata": {
        "colab": {
          "base_uri": "https://localhost:8080/"
        },
        "id": "IupB6TjeToai",
        "outputId": "48f50405-cbff-4bcb-fcd3-1aef32a2f597"
      },
      "source": [
        "tareas = (4.5*10)/100)\n",
        "talleres = (4.0*25)/100)\n",
        "asistencia = (5.0*5)/100)\n",
        "participacion = (4.0*15)/100)\n",
        "\n",
        "suma = tareas + talleres + asistencia + participacion\n",
        "proyecto = 5.0 - suma\n",
        "print(\"las estudiantes tendrían que sacar en el proyecto: \", proyecto)\n"
      ],
      "execution_count": 25,
      "outputs": [
        {
          "output_type": "stream",
          "text": [
            "las estudiantes tendrían que sacar en el proyecto:  2.7\n"
          ],
          "name": "stdout"
        }
      ]
    }
  ]
}
{
  "nbformat": 4,
  "nbformat_minor": 0,
  "metadata": {
    "colab": {
      "name": "Clase5.ipynb",
      "provenance": [],
      "authorship_tag": "ABX9TyPdOwmxGC0rKksivsWtI/TX",
      "include_colab_link": true
    },
    "kernelspec": {
      "name": "python3",
      "display_name": "Python 3"
    },
    "language_info": {
      "name": "python"
    }
  },
  "cells": [
    {
      "cell_type": "markdown",
      "metadata": {
        "id": "view-in-github",
        "colab_type": "text"
      },
      "source": [
        "<a href=\"https://colab.research.google.com/github/AngieCat26/MujeresDigitales/blob/main/Clase5.ipynb\" target=\"_parent\"><img src=\"https://colab.research.google.com/assets/colab-badge.svg\" alt=\"Open In Colab\"/></a>"
      ]
    },
    {
      "cell_type": "markdown",
      "metadata": {
        "id": "jSIN7JLqpWOx"
      },
      "source": [
        "**CONTINUACIÓN DE CICLOS**\n",
        "\n",
        "\n",
        "---\n",
        "**Ciclo For - Bucle FOR**\n",
        "\n",
        "\n",
        "\n"
      ]
    },
    {
      "cell_type": "code",
      "metadata": {
        "colab": {
          "base_uri": "https://localhost:8080/"
        },
        "id": "Ji_CAOVBooGt",
        "outputId": "ffb61a8e-cc7a-46df-a8a3-5d7ccdc7606e"
      },
      "source": [
        "for i in range(1,5):\n",
        "  print(1)"
      ],
      "execution_count": 1,
      "outputs": [
        {
          "output_type": "stream",
          "text": [
            "1\n",
            "1\n",
            "1\n",
            "1\n"
          ],
          "name": "stdout"
        }
      ]
    },
    {
      "cell_type": "markdown",
      "metadata": {
        "id": "90dtylHbp-en"
      },
      "source": [
        "Para dejar claro las partes que componen el bucle FOR, vamos a dejar claro las siguientes definiciones:\n",
        "\n",
        "1. **Iterable**: son los objetos que pueden ser iterados, por ejemplo una lista, un valor tipo cadena, etc \n",
        "2. **Iterador**: Son objetos que hacen a referencia a un elemento (para hacer referencia a cada uno de los elementos hay un métpdp denominado \"next\" que permite hacer referencia a los elementos del conjunto \n",
        "\n",
        "**for  (variable) in (iterable):\n",
        "        (Nloque código)\n",
        "\n",
        "\n",
        "Algunos ejemplo de iterables en pyhton son las listas, cadenas, diccionarios, tuplas, etc.\n",
        "\n",
        "¿Cómo saber que es iterable a la hora de progrmar?\n",
        "Podemos darnos cuenta que es iterable usando la función isinstance()."
      ]
    },
    {
      "cell_type": "code",
      "metadata": {
        "colab": {
          "base_uri": "https://localhost:8080/"
        },
        "id": "MHt01jXnr4ff",
        "outputId": "7ee8ac92-5a42-47cd-d6a1-b4ece39ec1ff"
      },
      "source": [
        "from collections import Iterable #paquete iterable de collections (python 3.7)\n",
        "lista = [1,2,3,4,5,6,7,8,9,0]\n",
        "a = \"computador\"\n",
        "b = 14\n",
        "print(isinstance(lista, Iterable))\n",
        "print(isinstance(a, Iterable))\n",
        "print(isinstance(b, Iterable))"
      ],
      "execution_count": 6,
      "outputs": [
        {
          "output_type": "stream",
          "text": [
            "True\n",
            "True\n",
            "False\n"
          ],
          "name": "stdout"
        }
      ]
    },
    {
      "cell_type": "code",
      "metadata": {
        "id": "sss5b2QjvU_R"
      },
      "source": [
        "a = 30 #arrojaría error porque no es iterable\n",
        "for i in a :\n"
      ],
      "execution_count": null,
      "outputs": []
    },
    {
      "cell_type": "markdown",
      "metadata": {
        "id": "Haoqp0IavrSE"
      },
      "source": [
        "Para entender los iteradores, es importante conocer la funcion *iter()*, esta función puede ser llamada sobre un objeto que sea iterable, y nos devolverá un iterador \n",
        "\n",
        "Ejemplo:"
      ]
    },
    {
      "cell_type": "code",
      "metadata": {
        "colab": {
          "base_uri": "https://localhost:8080/"
        },
        "id": "DZgbxKXMv9Zh",
        "outputId": "3c312540-a644-48c7-aa90-2dd26b512855"
      },
      "source": [
        "lista = [1,2,3,4,5,6,7,8,9,0]\n",
        "ref = iter(lista)\n",
        "print(ref)\n",
        "print(type(ref))"
      ],
      "execution_count": 10,
      "outputs": [
        {
          "output_type": "stream",
          "text": [
            "<list_iterator object at 0x7f80da3037d0>\n",
            "<class 'list_iterator'>\n"
          ],
          "name": "stdout"
        }
      ]
    },
    {
      "cell_type": "markdown",
      "metadata": {
        "id": "AHh9fpvRwZJS"
      },
      "source": [
        "Al imprimir ref es un iterador, de la clase *list_iterador* hace referencia a la lista original y nos permite acceder a sus elementos con la función *next()*. Cada vez que llamemos a next() sobre ref, nos devuelve el siguiente elemento de la lista original \n",
        "\n",
        "si por ejemplo, quiero acceder al elemento 7, tendremos que llamar 7 veces a next()"
      ]
    },
    {
      "cell_type": "code",
      "metadata": {
        "colab": {
          "base_uri": "https://localhost:8080/"
        },
        "id": "ynt17kymwoqG",
        "outputId": "ff3a425a-df57-4df2-b698-3af9d8464a44"
      },
      "source": [
        "lista = [1,2,3,4,5,6,7,8,9,0]\n",
        "ref = iter(lista)\n",
        "print(next(ref))\n",
        "print(next(ref))\n",
        "print(next(ref))\n",
        "print(next(ref))\n",
        "print(next(ref))\n",
        "print(next(ref))\n",
        "print(next(ref))\n",
        "print(next(ref))\n",
        "print(next(ref))\n",
        "print(next(ref))"
      ],
      "execution_count": 13,
      "outputs": [
        {
          "output_type": "stream",
          "text": [
            "1\n",
            "2\n",
            "3\n",
            "4\n",
            "5\n",
            "6\n",
            "7\n",
            "8\n",
            "9\n",
            "0\n"
          ],
          "name": "stdout"
        }
      ]
    },
    {
      "cell_type": "markdown",
      "metadata": {
        "id": "OKLM9hH-xo-5"
      },
      "source": [
        "**TENER EN CUENTA**\n",
        "\n",
        "Existen otro iteradores para las diferentes clases:\n",
        "1. str_iterador para cadenas \n",
        "2. list_iterador para listas\n",
        "3. set_iterador para conjuntos\n",
        "4. dict_keyiterator para diccionarios"
      ]
    },
    {
      "cell_type": "markdown",
      "metadata": {
        "id": "vnaE2mkuyAUG"
      },
      "source": [
        "**FOR ANIDADOS**\n",
        "\n",
        "---\n",
        "Es posible anidas los , es decir ingresar uno dentro de otro, como lo vemos a continuación"
      ]
    },
    {
      "cell_type": "code",
      "metadata": {
        "colab": {
          "base_uri": "https://localhost:8080/"
        },
        "id": "kj6usy5JyOCI",
        "outputId": "8f507187-509c-4b1f-e9ad-201a66a3fe59"
      },
      "source": [
        "#vamos a crear una lista de listas lo cual conforma una especie de matriz\n",
        "#Recordemos que una matriz se compone de valores que se distribuyen el filan y columnas \n",
        "qa = [[1,2,3],\n",
        "      [4,5,6], \n",
        "      [7,8,9]]\n",
        "  \n",
        "for i in qa :\n",
        "  print(i)\n",
        "\n",
        "for i in qa:\n",
        "  for j in i:\n",
        "    print(j)"
      ],
      "execution_count": 15,
      "outputs": [
        {
          "output_type": "stream",
          "text": [
            "[1, 2, 3]\n",
            "[4, 5, 6]\n",
            "[7, 8, 9]\n",
            "1\n",
            "2\n",
            "3\n",
            "4\n",
            "5\n",
            "6\n",
            "7\n",
            "8\n",
            "9\n"
          ],
          "name": "stdout"
        }
      ]
    },
    {
      "cell_type": "markdown",
      "metadata": {
        "id": "Fg0CtPsFzThn"
      },
      "source": [
        "Si queremos acceder a cada elemento individualmente, se procede a realizar un bucle de FOR anidado. Es decir , un for se encargará de iterar las columnas y el otro, las filas"
      ]
    },
    {
      "cell_type": "code",
      "metadata": {
        "colab": {
          "base_uri": "https://localhost:8080/"
        },
        "id": "upFZBjTCz3P2",
        "outputId": "f2dd4f17-6b38-4774-9a19-98be7d70a7e6"
      },
      "source": [
        "#Otra forma de utilizar solo el for es la iteración al revés. Es decir se puede iterar la lista desde ek ultimo al primer elemento\n",
        "lista = [1,2,3,4,5,6,7,8,9,0]\n",
        "for i in lista[::-1]:\n",
        "  print(i)"
      ],
      "execution_count": 16,
      "outputs": [
        {
          "output_type": "stream",
          "text": [
            "0\n",
            "9\n",
            "8\n",
            "7\n",
            "6\n",
            "5\n",
            "4\n",
            "3\n",
            "2\n",
            "1\n"
          ],
          "name": "stdout"
        }
      ]
    },
    {
      "cell_type": "code",
      "metadata": {
        "colab": {
          "base_uri": "https://localhost:8080/"
        },
        "id": "qwOaXe4c0f7I",
        "outputId": "8e7007e9-4d00-4fd5-b09a-d3408e360c82"
      },
      "source": [
        "lista = [1,2,3,4,5,6,7,8,9,0]\n",
        "for i in lista[::2]:\n",
        "  print(i)\n",
        "print(\"----------------------\")\n",
        "a = \"computador\"\n",
        "for i in a [::4]:\n",
        "  print(i)"
      ],
      "execution_count": 18,
      "outputs": [
        {
          "output_type": "stream",
          "text": [
            "1\n",
            "3\n",
            "5\n",
            "7\n",
            "9\n",
            "----------------------\n",
            "c\n",
            "u\n",
            "o\n"
          ],
          "name": "stdout"
        }
      ]
    },
    {
      "cell_type": "code",
      "metadata": {
        "colab": {
          "base_uri": "https://localhost:8080/"
        },
        "id": "zcMrE5U41tJb",
        "outputId": "de162e5e-b7a1-4199-9b6e-98bfe1b78880"
      },
      "source": [
        "#Usando rangos \n",
        "for i in range(10):\n",
        "  print(i)\n",
        "#El range( genera una secuencia de numero que van desde 0 por defecto \n",
        "#El número que sepasa como parámetro menos 2.\n",
        "\n",
        "#*Estructura: rage(inicio, fin, salto)\n",
        "\n",
        "#Observemos un truco con el range\n",
        "print(list(range(2,10,2))) #convertir un rango en una lista "
      ],
      "execution_count": 20,
      "outputs": [
        {
          "output_type": "stream",
          "text": [
            "0\n",
            "1\n",
            "2\n",
            "3\n",
            "4\n",
            "5\n",
            "6\n",
            "7\n",
            "8\n",
            "9\n",
            "[2, 4, 6, 8]\n"
          ],
          "name": "stdout"
        }
      ]
    },
    {
      "cell_type": "markdown",
      "metadata": {
        "id": "VwP4uT683WEn"
      },
      "source": [
        "**LISTA DE COMPRENSIÓN**\n",
        "\n",
        "\n",
        "---\n",
        "EStas nor permite crear listas de elementos en una sola linea de código\n",
        "Ejemplo: Crear una lista de las potencias a la 3 de los números impares de 0 a 9"
      ]
    },
    {
      "cell_type": "code",
      "metadata": {
        "colab": {
          "base_uri": "https://localhost:8080/"
        },
        "id": "lotFT3YA3-i7",
        "outputId": "e3ca06d5-6a16-4c4d-cc7e-bcba0360e382"
      },
      "source": [
        "tres = [i**3 for i in range(1,10,2)]\n",
        "print(tres)\n",
        "\n",
        "tres = []\n",
        "for i in range(1,10,2):\n",
        "  tres.append(i**3)\n",
        "  print(i)"
      ],
      "execution_count": 22,
      "outputs": [
        {
          "output_type": "stream",
          "text": [
            "[1, 27, 125, 343, 729]\n",
            "1\n",
            "3\n",
            "5\n",
            "7\n",
            "9\n"
          ],
          "name": "stdout"
        }
      ]
    },
    {
      "cell_type": "code",
      "metadata": {
        "colab": {
          "base_uri": "https://localhost:8080/"
        },
        "id": "zeSUTgsG6Plc",
        "outputId": "eddd1a51-f8cd-4c70-a6f1-9ddd1f44c24f"
      },
      "source": [
        "s = [i for i in range(10)]\n",
        "print(s)"
      ],
      "execution_count": 23,
      "outputs": [
        {
          "output_type": "stream",
          "text": [
            "[0, 1, 2, 3, 4, 5, 6, 7, 8, 9]\n"
          ],
          "name": "stdout"
        }
      ]
    },
    {
      "cell_type": "code",
      "metadata": {
        "colab": {
          "base_uri": "https://localhost:8080/"
        },
        "id": "yDWjy7g96XeF",
        "outputId": "42b10fe7-98ab-4f34-fb61-ffad43d0160f"
      },
      "source": [
        "lwa = [5,10,15,20,25,30]\n",
        "lwa2 = [ 1/5 for i in lwa]\n",
        "print(lwa2)"
      ],
      "execution_count": 24,
      "outputs": [
        {
          "output_type": "stream",
          "text": [
            "[0.2, 0.2, 0.2, 0.2, 0.2, 0.2]\n"
          ],
          "name": "stdout"
        }
      ]
    },
    {
      "cell_type": "code",
      "metadata": {
        "colab": {
          "base_uri": "https://localhost:8080/"
        },
        "id": "hOEuWs1_65Bp",
        "outputId": "f5866b56-975b-4d6d-c5df-c31f14e9c442"
      },
      "source": [
        "pera = \"mamá ama a ema\"\n",
        "pera2 = [i for i in pera if i== \"a\"]\n",
        "print(pera2)"
      ],
      "execution_count": 27,
      "outputs": [
        {
          "output_type": "stream",
          "text": [
            "['a', 'a', 'a', 'a', 'a']\n"
          ],
          "name": "stdout"
        }
      ]
    }
  ]
}
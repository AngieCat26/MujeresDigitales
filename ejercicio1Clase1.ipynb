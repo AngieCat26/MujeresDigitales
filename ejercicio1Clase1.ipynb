{
  "nbformat": 4,
  "nbformat_minor": 0,
  "metadata": {
    "colab": {
      "name": "Untitled8.ipynb",
      "provenance": [],
      "authorship_tag": "ABX9TyPeoWqtORNPkrNcXZCXG+Rq",
      "include_colab_link": true
    },
    "kernelspec": {
      "name": "python3",
      "display_name": "Python 3"
    },
    "language_info": {
      "name": "python"
    }
  },
  "cells": [
    {
      "cell_type": "markdown",
      "metadata": {
        "id": "view-in-github",
        "colab_type": "text"
      },
      "source": [
        "<a href=\"https://colab.research.google.com/github/AngieCat26/MujeresDigitales/blob/main/ejercicio1Clase1.ipynb\" target=\"_parent\"><img src=\"https://colab.research.google.com/assets/colab-badge.svg\" alt=\"Open In Colab\"/></a>"
      ]
    },
    {
      "cell_type": "markdown",
      "metadata": {
        "id": "O4eONofSfa3b"
      },
      "source": [
        "**ENTEROS**"
      ]
    },
    {
      "cell_type": "code",
      "metadata": {
        "colab": {
          "base_uri": "https://localhost:8080/"
        },
        "id": "MVCrGkBsfemN",
        "outputId": "7d7aeb1e-b2e6-4072-f849-189d68b7fee5"
      },
      "source": [
        "x = int(4.66)\n",
        "print(x)"
      ],
      "execution_count": 2,
      "outputs": [
        {
          "output_type": "stream",
          "text": [
            "4\n"
          ],
          "name": "stdout"
        }
      ]
    },
    {
      "cell_type": "code",
      "metadata": {
        "colab": {
          "base_uri": "https://localhost:8080/"
        },
        "id": "dVbrdLRYfv9T",
        "outputId": "96a5d551-aaee-4ad7-d85e-54277013d686"
      },
      "source": [
        "y = int(1.3526)\n",
        "print (y)"
      ],
      "execution_count": 6,
      "outputs": [
        {
          "output_type": "stream",
          "text": [
            "1\n"
          ],
          "name": "stdout"
        }
      ]
    },
    {
      "cell_type": "markdown",
      "metadata": {
        "id": "V_aBPoDEgGW-"
      },
      "source": [
        "**TIPO CADENA**"
      ]
    },
    {
      "cell_type": "code",
      "metadata": {
        "colab": {
          "base_uri": "https://localhost:8080/"
        },
        "id": "uuVI1hfcgKDI",
        "outputId": "d9cb7f0c-3118-4940-fddd-890e4b0325fd"
      },
      "source": [
        "x = \"hola mundo\"\n",
        "print (x)"
      ],
      "execution_count": 7,
      "outputs": [
        {
          "output_type": "stream",
          "text": [
            "hola mundo\n"
          ],
          "name": "stdout"
        }
      ]
    },
    {
      "cell_type": "code",
      "metadata": {
        "colab": {
          "base_uri": "https://localhost:8080/"
        },
        "id": "5oVkzDUdg00-",
        "outputId": "7828aa20-5956-44c3-a31b-f90b42ff7889"
      },
      "source": [
        "n=\"hola!\"\n",
        "z=\"soy Katherin\"\n",
        "w=\"Aprender python\"\n",
        "nz=n+\"\"+z\n",
        "print(nz) \n",
        "\n"
      ],
      "execution_count": 8,
      "outputs": [
        {
          "output_type": "stream",
          "text": [
            "hola!soy Katherin\n",
            "3\n"
          ],
          "name": "stdout"
        }
      ]
    },
    {
      "cell_type": "markdown",
      "metadata": {
        "id": "1r6G9Ogdhnaj"
      },
      "source": [
        "**TIPO BOLLEANO**"
      ]
    },
    {
      "cell_type": "code",
      "metadata": {
        "colab": {
          "base_uri": "https://localhost:8080/"
        },
        "id": "JTXZU0PshEMJ",
        "outputId": "b5f1d9e2-6860-4abe-9abf-ec9fbfe22c80"
      },
      "source": [
        "x = True\n",
        "print(\"El valor es \", x ,\" la variable es de tipo\", type(x))"
      ],
      "execution_count": 9,
      "outputs": [
        {
          "output_type": "stream",
          "text": [
            "El valor es  True  la variable es de tipo <class 'bool'>\n"
          ],
          "name": "stdout"
        }
      ]
    },
    {
      "cell_type": "code",
      "metadata": {
        "colab": {
          "base_uri": "https://localhost:8080/"
        },
        "id": "81qstnn5hurf",
        "outputId": "662316e2-9d06-4a70-ee3e-5be20fce2cd1"
      },
      "source": [
        "x = False\n",
        "print(\"El valor es \", x ,\" la variable es de tipo\", type(x))"
      ],
      "execution_count": 10,
      "outputs": [
        {
          "output_type": "stream",
          "text": [
            "El valor es  False  la variable es de tipo <class 'bool'>\n"
          ],
          "name": "stdout"
        }
      ]
    },
    {
      "cell_type": "markdown",
      "metadata": {
        "id": "4pChFOSrhzkM"
      },
      "source": [
        "**TIPO DE CONJUNTOS**"
      ]
    },
    {
      "cell_type": "code",
      "metadata": {
        "colab": {
          "base_uri": "https://localhost:8080/"
        },
        "id": "VnA0bwUHh5RD",
        "outputId": "e5c39867-8354-4ee3-a2bc-7e623c382869"
      },
      "source": [
        "nom = 'Angie','Katherin','Sofia'\n",
        "paises = 'Colombia', 'Mexico', 'Brasil'\n",
        "print( nom, paises)"
      ],
      "execution_count": 11,
      "outputs": [
        {
          "output_type": "stream",
          "text": [
            "('Angie', 'Katherin', 'Sofia') ('Colombia', 'Mexico', 'Brasil')\n"
          ],
          "name": "stdout"
        }
      ]
    },
    {
      "cell_type": "code",
      "metadata": {
        "colab": {
          "base_uri": "https://localhost:8080/"
        },
        "id": "-xdx8A2-iRkp",
        "outputId": "2f5e9315-5478-4532-937f-9657364ee095"
      },
      "source": [
        "ropa = 'Falda','Camisas','Corbata'\n",
        "talla = 's', 'xs', 'xl'\n",
        "print( ropa, talla)"
      ],
      "execution_count": 12,
      "outputs": [
        {
          "output_type": "stream",
          "text": [
            "('Falda', 'Camisas', 'Corbata') ('s', 'xs', 'xl')\n"
          ],
          "name": "stdout"
        }
      ]
    },
    {
      "cell_type": "markdown",
      "metadata": {
        "id": "AtBoeUvuihtj"
      },
      "source": [
        "**TIPO DE LISTAS**"
      ]
    },
    {
      "cell_type": "code",
      "metadata": {
        "colab": {
          "base_uri": "https://localhost:8080/"
        },
        "id": "chNaABDYif7T",
        "outputId": "d76a35ed-8ee9-4694-d322-c6b17a446a50"
      },
      "source": [
        "obj = ['carro','moto','cama','avion','celular','computador','tiquet','tetero','cobija']\n",
        "print(obj)\n",
        "x = obj[1]\n",
        "x = obj [0:2]  \n",
        "print(x)"
      ],
      "execution_count": 13,
      "outputs": [
        {
          "output_type": "stream",
          "text": [
            "['carro', 'moto', 'cama', 'avion', 'celular', 'computador', 'tiquet', 'tetero', 'cobija']\n",
            "['carro', 'moto']\n"
          ],
          "name": "stdout"
        }
      ]
    },
    {
      "cell_type": "code",
      "metadata": {
        "colab": {
          "base_uri": "https://localhost:8080/"
        },
        "id": "b2F9kCHMjIi4",
        "outputId": "40260f72-3c48-498a-f26a-ad3b009d2c82"
      },
      "source": [
        "edades = ['10','85','60','15','16','5','65','60','35']\n",
        "print(edades)\n",
        "x = edades [1]\n",
        "x = edades [0:2]  \n",
        "print(x)"
      ],
      "execution_count": 14,
      "outputs": [
        {
          "output_type": "stream",
          "text": [
            "['10', '85', '60', '15', '16', '5', '65', '60', '35']\n",
            "['10', '85']\n"
          ],
          "name": "stdout"
        }
      ]
    },
    {
      "cell_type": "markdown",
      "metadata": {
        "id": "RtkyaIRQjbdQ"
      },
      "source": [
        "**TIPO TUPLAS**"
      ]
    },
    {
      "cell_type": "code",
      "metadata": {
        "colab": {
          "base_uri": "https://localhost:8080/"
        },
        "id": "6IuAyf6Qjd4w",
        "outputId": "94361bd3-ad88-403d-8b75-67a555c1ee34"
      },
      "source": [
        "tupla = \"caracol\", \"perro\" , \"gato\"\n",
        "print(tupla)\n"
      ],
      "execution_count": 15,
      "outputs": [
        {
          "output_type": "stream",
          "text": [
            "('caracol', 'perro', 'gato')\n"
          ],
          "name": "stdout"
        }
      ]
    },
    {
      "cell_type": "code",
      "metadata": {
        "colab": {
          "base_uri": "https://localhost:8080/"
        },
        "id": "Pl_87hUIj0H8",
        "outputId": "f9126cd3-344e-4df0-e2ff-e7b822891321"
      },
      "source": [
        "tupla = \"caracol\", \"perro\" , \"gato\"\n",
        "\n",
        "tupla2 = tupla, (\"lento\",\"mascota\",\"felino\")\n",
        "print(tupla2)"
      ],
      "execution_count": 17,
      "outputs": [
        {
          "output_type": "stream",
          "text": [
            "(('caracol', 'perro', 'gato'), ('lento', 'mascota', 'felino'))\n"
          ],
          "name": "stdout"
        }
      ]
    },
    {
      "cell_type": "markdown",
      "metadata": {
        "id": "Srx3-4yvkGHm"
      },
      "source": [
        "**TIPO DE DICCIONARIOS**"
      ]
    },
    {
      "cell_type": "code",
      "metadata": {
        "colab": {
          "base_uri": "https://localhost:8080/"
        },
        "id": "3nq27LAHkJiZ",
        "outputId": "8585c957-790c-4cb5-f775-608473ecdd02"
      },
      "source": [
        "datos ={\n",
        "    \"nombre\":\"johan\",\n",
        "    \"apellido\":\"gomez\",\n",
        "    \"Cedula\": \"2345671\",\n",
        "    \"hijos\": \"3\",\n",
        "    \n",
        "}\n",
        "print(\"ID del diccionario\", datos.keys())\n",
        "print(\"ID del diccionario\", datos.values())\n",
        "print(\"ID del diccionario\", datos.items())\n",
        "print(\"hijos:\", datos['hijos'])\n"
      ],
      "execution_count": 20,
      "outputs": [
        {
          "output_type": "stream",
          "text": [
            "ID del diccionario dict_keys(['nombre', 'apellido', 'Cedula', 'hijos'])\n",
            "ID del diccionario dict_values(['johan', 'gomez', '2345671', '3'])\n",
            "ID del diccionario dict_items([('nombre', 'johan'), ('apellido', 'gomez'), ('Cedula', '2345671'), ('hijos', '3')])\n",
            "hijos: 3\n"
          ],
          "name": "stdout"
        }
      ]
    }
  ]
}
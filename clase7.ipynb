{
  "nbformat": 4,
  "nbformat_minor": 0,
  "metadata": {
    "colab": {
      "name": "clase7.ipynb",
      "provenance": [],
      "authorship_tag": "ABX9TyN1NEogo1GubOJ7pmBe/rw5",
      "include_colab_link": true
    },
    "kernelspec": {
      "name": "python3",
      "display_name": "Python 3"
    },
    "language_info": {
      "name": "python"
    }
  },
  "cells": [
    {
      "cell_type": "markdown",
      "metadata": {
        "id": "view-in-github",
        "colab_type": "text"
      },
      "source": [
        "<a href=\"https://colab.research.google.com/github/AngieCat26/MujeresDigitales/blob/main/clase7.ipynb\" target=\"_parent\"><img src=\"https://colab.research.google.com/assets/colab-badge.svg\" alt=\"Open In Colab\"/></a>"
      ]
    },
    {
      "cell_type": "markdown",
      "metadata": {
        "id": "E0hx3H7ayT1N"
      },
      "source": [
        "Diferencia entre valores y referencias\n",
        "Existen dos conceptos de paso por valor y por *referencia que se aplican a la hora de tratar a los parametros de entrada deuna función:\n",
        "\n",
        "Si se usa un parámetro que pasa por un valor, se crea una copia local de la variable local implica que cualquier modificacion sobre esta no tendra repercusiones sobre la base original\n",
        "\n",
        "Si la varible para como referencia, sí actuará directamente sobre la base original."
      ]
    },
    {
      "cell_type": "code",
      "metadata": {
        "id": "UxYntfniyReG"
      },
      "source": [
        "#Ejemplo de paso por **valor**\n",
        "\n",
        "x=3\n",
        "def funcion(w):\n",
        "  w=0\n",
        "funcion(x)\n",
        "print(x)"
      ],
      "execution_count": null,
      "outputs": []
    },
    {
      "cell_type": "markdown",
      "metadata": {
        "id": "et647Ew_yc9j"
      },
      "source": [
        "1. Inicio con x=3\n",
        "2. Se lo paso a la funcion()\n",
        "3. Dentro de la función hacemos que la variable valga cero\n",
        "4. Dado que pasa como valor dentro de la función se crea una copia local de x. Por lo cual, la variable original no se modifica"
      ]
    },
    {
      "cell_type": "code",
      "metadata": {
        "id": "6xK21aqqyepq"
      },
      "source": [
        "#Caso que pasa por **Referencia**\n",
        "x=[3,6,9,12]\n",
        "def sw(tipo):\n",
        "  tipo.append(50)\n",
        "sw(x)\n",
        "print(x)"
      ],
      "execution_count": null,
      "outputs": []
    },
    {
      "cell_type": "markdown",
      "metadata": {
        "id": "WIAOP7h4yhhv"
      },
      "source": [
        "**Tipos de Funciones**\n",
        "---\n",
        "1. Funciones Lambda\n",
        "\n",
        "\n",
        "---\n",
        "\n",
        "Son funciones que normalmente se usan para definir el código en una sola linea.\n"
      ]
    },
    {
      "cell_type": "code",
      "metadata": {
        "id": "lB_5cUIrylA4"
      },
      "source": [
        "#Loque normalmente sería la definición de la función de este estilo:\n",
        "#def suma(a,b,c,d)\n",
        "#   return a+b+c+d\n",
        " \n",
        "#*# Se puede escribir de la siguiente forma:\n",
        "(lambda a,b,c,d: a+b+c+d)(1,2,3,4)\n"
      ],
      "execution_count": null,
      "outputs": []
    },
    {
      "cell_type": "code",
      "metadata": {
        "id": "c6cfptm7yrRJ"
      },
      "source": [
        "(lambda *number:sum(number))(1,4,5,5,6,7,8)"
      ],
      "execution_count": null,
      "outputs": []
    },
    {
      "cell_type": "code",
      "metadata": {
        "id": "XPTscVzuytSa"
      },
      "source": [
        "(lambda *number:sum(number))(1,4,5,5,6,7,8)"
      ],
      "execution_count": null,
      "outputs": []
    },
    {
      "cell_type": "code",
      "metadata": {
        "id": "bJ6E3g7Myu0d"
      },
      "source": [
        "(lambda **number: sum(number.values()))(a=1,b=4,c=10)"
      ],
      "execution_count": null,
      "outputs": []
    },
    {
      "cell_type": "markdown",
      "metadata": {
        "id": "2qgWK8gkyxkg"
      },
      "source": [
        "luisa=lambda a,b,c,d:a+b+c+d\n",
        "print(luisa(4,6,1,1))"
      ]
    },
    {
      "cell_type": "markdown",
      "metadata": {
        "id": "Q7qUCfRqy1F2"
      },
      "source": [
        "**RECURSIVIDAD**\n",
        "\n",
        "---\n",
        "Las caracteristicas de una función recursiva son las siguientes:\n",
        "\n",
        "1. Sección en que se llama a sí misma \n",
        "2. Sección del bloque de código donde este la condición que implique retornar sinvolver a llamarse. **(IMPORTANTE)**\n",
        "\n",
        "Los ejemplos tradicionales de Recursividad son la aplicación de **Cálculo factorial** y la **serie de fabionacci**.\n",
        "\n",
        "**1. Cálculo factorial**\n",
        "En matemáticas definimos factorial (n!) como la multipicación de todos sus números predecesores hasta llegar a uno:\n",
        "\n",
        "Ejemplo:\n",
        "\n",
        "5! = 5 * 4 * 3 * 2 * 1"
      ]
    },
    {
      "cell_type": "code",
      "metadata": {
        "id": "ShqwiN2My32q"
      },
      "source": [
        "#Apliquemosun enfoque no recursivo de cálculo fatorial:\n",
        "\n",
        "def factorial(n):\n",
        "  w=1\n",
        "  i=2\n",
        "  while i<=n:\n",
        "    w *=i\n",
        "    i +=1\n",
        "  return w\n",
        "factorial(5)"
      ],
      "execution_count": null,
      "outputs": []
    },
    {
      "cell_type": "code",
      "metadata": {
        "id": "xCob8cVey5zR"
      },
      "source": [
        "#Definamos factorial recursivo:\n",
        "\n",
        "def recursivofac(n):\n",
        "  if n==1:\n",
        "    return 1\n",
        "  else:\n",
        "    return n*recursivofac(n-1)\n",
        "recursivofac(10)"
      ],
      "execution_count": null,
      "outputs": []
    },
    {
      "cell_type": "markdown",
      "metadata": {
        "id": "qnZc2XvRy72f"
      },
      "source": [
        "A continuación complementamos los tipos de geradores:\n",
        "\n",
        "1. Return\n",
        "2. Yield"
      ]
    },
    {
      "cell_type": "code",
      "metadata": {
        "id": "W-qdA7Nly9zm"
      },
      "source": [
        "def s():\n",
        "  yield 4\n",
        "s()"
      ],
      "execution_count": null,
      "outputs": []
    },
    {
      "cell_type": "markdown",
      "metadata": {
        "id": "0uaN4ueKzBz4"
      },
      "source": [
        "Cuando usamos el return nos devuelve el número 4, pero cuando usamos el yield nos devuelve un objeto de clase (generator)"
      ]
    }
  ]
}
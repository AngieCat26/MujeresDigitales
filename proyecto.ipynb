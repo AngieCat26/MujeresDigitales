{
  "nbformat": 4,
  "nbformat_minor": 0,
  "metadata": {
    "colab": {
      "name": "proyecto.ipynb",
      "provenance": [],
      "include_colab_link": true
    },
    "kernelspec": {
      "name": "python3",
      "display_name": "Python 3"
    },
    "language_info": {
      "name": "python"
    }
  },
  "cells": [
    {
      "cell_type": "markdown",
      "metadata": {
        "id": "view-in-github",
        "colab_type": "text"
      },
      "source": [
        "<a href=\"https://colab.research.google.com/github/AngieCat26/MujeresDigitales/blob/main/proyecto.ipynb\" target=\"_parent\"><img src=\"https://colab.research.google.com/assets/colab-badge.svg\" alt=\"Open In Colab\"/></a>"
      ]
    },
    {
      "cell_type": "code",
      "metadata": {
        "colab": {
          "base_uri": "https://localhost:8080/",
          "height": 422
        },
        "id": "OjM-jy5AwXNj",
        "outputId": "734d9c18-0591-442d-93e8-e30160f83869"
      },
      "source": [
        "import pandas as pd\n",
        "from matplotlib import pyplot as plt\n",
        "import seaborn as sns \n",
        "\n",
        "url = \"https://raw.githubusercontent.com/AngieCat26/MujeresDigitales/main/TCM.csv\"\n",
        "\n",
        "df = pd.read_csv(url)\n",
        "df"
      ],
      "execution_count": 102,
      "outputs": [
        {
          "output_type": "execute_result",
          "data": {
            "text/html": [
              "<div>\n",
              "<style scoped>\n",
              "    .dataframe tbody tr th:only-of-type {\n",
              "        vertical-align: middle;\n",
              "    }\n",
              "\n",
              "    .dataframe tbody tr th {\n",
              "        vertical-align: top;\n",
              "    }\n",
              "\n",
              "    .dataframe thead th {\n",
              "        text-align: right;\n",
              "    }\n",
              "</style>\n",
              "<table border=\"1\" class=\"dataframe\">\n",
              "  <thead>\n",
              "    <tr style=\"text-align: right;\">\n",
              "      <th></th>\n",
              "      <th>Fecha</th>\n",
              "      <th>TRM</th>\n",
              "    </tr>\n",
              "  </thead>\n",
              "  <tbody>\n",
              "    <tr>\n",
              "      <th>0</th>\n",
              "      <td>27/11/1991</td>\n",
              "      <td>$ 693.32</td>\n",
              "    </tr>\n",
              "    <tr>\n",
              "      <th>1</th>\n",
              "      <td>28/11/1991</td>\n",
              "      <td>$ 693.99</td>\n",
              "    </tr>\n",
              "    <tr>\n",
              "      <th>2</th>\n",
              "      <td>29/11/1991</td>\n",
              "      <td>$ 694.70</td>\n",
              "    </tr>\n",
              "    <tr>\n",
              "      <th>3</th>\n",
              "      <td>30/11/1991</td>\n",
              "      <td>$ 694.70</td>\n",
              "    </tr>\n",
              "    <tr>\n",
              "      <th>4</th>\n",
              "      <td>01/12/1991</td>\n",
              "      <td>$ 643.42</td>\n",
              "    </tr>\n",
              "    <tr>\n",
              "      <th>...</th>\n",
              "      <td>...</td>\n",
              "      <td>...</td>\n",
              "    </tr>\n",
              "    <tr>\n",
              "      <th>10939</th>\n",
              "      <td>08/11/2021</td>\n",
              "      <td>$ 3,881.76</td>\n",
              "    </tr>\n",
              "    <tr>\n",
              "      <th>10940</th>\n",
              "      <td>NaN</td>\n",
              "      <td>NaN</td>\n",
              "    </tr>\n",
              "    <tr>\n",
              "      <th>10941</th>\n",
              "      <td>Fuente: Superintendencia Financiera de Colombi...</td>\n",
              "      <td>NaN</td>\n",
              "    </tr>\n",
              "    <tr>\n",
              "      <th>10942</th>\n",
              "      <td>NaN</td>\n",
              "      <td>NaN</td>\n",
              "    </tr>\n",
              "    <tr>\n",
              "      <th>10943</th>\n",
              "      <td>Banco de la República - Gerencia Técnica - in...</td>\n",
              "      <td>NaN</td>\n",
              "    </tr>\n",
              "  </tbody>\n",
              "</table>\n",
              "<p>10944 rows × 2 columns</p>\n",
              "</div>"
            ],
            "text/plain": [
              "                                                   Fecha         TRM\n",
              "0                                             27/11/1991    $ 693.32\n",
              "1                                             28/11/1991    $ 693.99\n",
              "2                                             29/11/1991    $ 694.70\n",
              "3                                             30/11/1991    $ 694.70\n",
              "4                                             01/12/1991    $ 643.42\n",
              "...                                                  ...         ...\n",
              "10939                                         08/11/2021  $ 3,881.76\n",
              "10940                                                NaN         NaN\n",
              "10941  Fuente: Superintendencia Financiera de Colombi...         NaN\n",
              "10942                                                NaN         NaN\n",
              "10943   Banco de la República - Gerencia Técnica - in...         NaN\n",
              "\n",
              "[10944 rows x 2 columns]"
            ]
          },
          "metadata": {},
          "execution_count": 102
        }
      ]
    },
    {
      "cell_type": "code",
      "metadata": {
        "id": "KfgQa41jNG7A"
      },
      "source": [
        ""
      ],
      "execution_count": null,
      "outputs": []
    },
    {
      "cell_type": "code",
      "metadata": {
        "colab": {
          "base_uri": "https://localhost:8080/",
          "height": 205
        },
        "id": "OGI74XmZhUmj",
        "outputId": "ffc2b3ca-5651-40c9-c801-9f86cb208379"
      },
      "source": [
        "df.head()"
      ],
      "execution_count": 103,
      "outputs": [
        {
          "output_type": "execute_result",
          "data": {
            "text/html": [
              "<div>\n",
              "<style scoped>\n",
              "    .dataframe tbody tr th:only-of-type {\n",
              "        vertical-align: middle;\n",
              "    }\n",
              "\n",
              "    .dataframe tbody tr th {\n",
              "        vertical-align: top;\n",
              "    }\n",
              "\n",
              "    .dataframe thead th {\n",
              "        text-align: right;\n",
              "    }\n",
              "</style>\n",
              "<table border=\"1\" class=\"dataframe\">\n",
              "  <thead>\n",
              "    <tr style=\"text-align: right;\">\n",
              "      <th></th>\n",
              "      <th>Fecha</th>\n",
              "      <th>TRM</th>\n",
              "    </tr>\n",
              "  </thead>\n",
              "  <tbody>\n",
              "    <tr>\n",
              "      <th>0</th>\n",
              "      <td>27/11/1991</td>\n",
              "      <td>$ 693.32</td>\n",
              "    </tr>\n",
              "    <tr>\n",
              "      <th>1</th>\n",
              "      <td>28/11/1991</td>\n",
              "      <td>$ 693.99</td>\n",
              "    </tr>\n",
              "    <tr>\n",
              "      <th>2</th>\n",
              "      <td>29/11/1991</td>\n",
              "      <td>$ 694.70</td>\n",
              "    </tr>\n",
              "    <tr>\n",
              "      <th>3</th>\n",
              "      <td>30/11/1991</td>\n",
              "      <td>$ 694.70</td>\n",
              "    </tr>\n",
              "    <tr>\n",
              "      <th>4</th>\n",
              "      <td>01/12/1991</td>\n",
              "      <td>$ 643.42</td>\n",
              "    </tr>\n",
              "  </tbody>\n",
              "</table>\n",
              "</div>"
            ],
            "text/plain": [
              "        Fecha       TRM\n",
              "0  27/11/1991  $ 693.32\n",
              "1  28/11/1991  $ 693.99\n",
              "2  29/11/1991  $ 694.70\n",
              "3  30/11/1991  $ 694.70\n",
              "4  01/12/1991  $ 643.42"
            ]
          },
          "metadata": {},
          "execution_count": 103
        }
      ]
    },
    {
      "cell_type": "code",
      "metadata": {
        "id": "3Yw_OAovilUG"
      },
      "source": [
        "\n",
        "df=df[:-4]\n"
      ],
      "execution_count": 104,
      "outputs": []
    },
    {
      "cell_type": "code",
      "metadata": {
        "colab": {
          "base_uri": "https://localhost:8080/"
        },
        "id": "l643zSH2h5cp",
        "outputId": "fae27307-269c-4440-f742-2cf3b9d4530e"
      },
      "source": [
        "df['TRM']=df['TRM'].str.replace('[$,]','',regex=True).str.strip().astype(float)  "
      ],
      "execution_count": 105,
      "outputs": [
        {
          "output_type": "stream",
          "name": "stderr",
          "text": [
            "/usr/local/lib/python3.7/dist-packages/ipykernel_launcher.py:1: SettingWithCopyWarning: \n",
            "A value is trying to be set on a copy of a slice from a DataFrame.\n",
            "Try using .loc[row_indexer,col_indexer] = value instead\n",
            "\n",
            "See the caveats in the documentation: https://pandas.pydata.org/pandas-docs/stable/user_guide/indexing.html#returning-a-view-versus-a-copy\n",
            "  \"\"\"Entry point for launching an IPython kernel.\n"
          ]
        }
      ]
    },
    {
      "cell_type": "code",
      "metadata": {
        "colab": {
          "base_uri": "https://localhost:8080/"
        },
        "id": "7kELFVfYlKdZ",
        "outputId": "aec9edc3-ec3a-4c94-fe5f-4f138b236bfd"
      },
      "source": [
        "df['Fecha']=pd.to_datetime(df['Fecha'])"
      ],
      "execution_count": 106,
      "outputs": [
        {
          "output_type": "stream",
          "name": "stderr",
          "text": [
            "/usr/local/lib/python3.7/dist-packages/ipykernel_launcher.py:1: SettingWithCopyWarning: \n",
            "A value is trying to be set on a copy of a slice from a DataFrame.\n",
            "Try using .loc[row_indexer,col_indexer] = value instead\n",
            "\n",
            "See the caveats in the documentation: https://pandas.pydata.org/pandas-docs/stable/user_guide/indexing.html#returning-a-view-versus-a-copy\n",
            "  \"\"\"Entry point for launching an IPython kernel.\n"
          ]
        }
      ]
    },
    {
      "cell_type": "code",
      "metadata": {
        "colab": {
          "base_uri": "https://localhost:8080/",
          "height": 422
        },
        "id": "Rqzg0XgLoLgN",
        "outputId": "2a50511f-172a-4838-f439-d587a4ac59d8"
      },
      "source": [
        "df"
      ],
      "execution_count": 107,
      "outputs": [
        {
          "output_type": "execute_result",
          "data": {
            "text/html": [
              "<div>\n",
              "<style scoped>\n",
              "    .dataframe tbody tr th:only-of-type {\n",
              "        vertical-align: middle;\n",
              "    }\n",
              "\n",
              "    .dataframe tbody tr th {\n",
              "        vertical-align: top;\n",
              "    }\n",
              "\n",
              "    .dataframe thead th {\n",
              "        text-align: right;\n",
              "    }\n",
              "</style>\n",
              "<table border=\"1\" class=\"dataframe\">\n",
              "  <thead>\n",
              "    <tr style=\"text-align: right;\">\n",
              "      <th></th>\n",
              "      <th>Fecha</th>\n",
              "      <th>TRM</th>\n",
              "    </tr>\n",
              "  </thead>\n",
              "  <tbody>\n",
              "    <tr>\n",
              "      <th>0</th>\n",
              "      <td>1991-11-27</td>\n",
              "      <td>693.32</td>\n",
              "    </tr>\n",
              "    <tr>\n",
              "      <th>1</th>\n",
              "      <td>1991-11-28</td>\n",
              "      <td>693.99</td>\n",
              "    </tr>\n",
              "    <tr>\n",
              "      <th>2</th>\n",
              "      <td>1991-11-29</td>\n",
              "      <td>694.70</td>\n",
              "    </tr>\n",
              "    <tr>\n",
              "      <th>3</th>\n",
              "      <td>1991-11-30</td>\n",
              "      <td>694.70</td>\n",
              "    </tr>\n",
              "    <tr>\n",
              "      <th>4</th>\n",
              "      <td>1991-01-12</td>\n",
              "      <td>643.42</td>\n",
              "    </tr>\n",
              "    <tr>\n",
              "      <th>...</th>\n",
              "      <td>...</td>\n",
              "      <td>...</td>\n",
              "    </tr>\n",
              "    <tr>\n",
              "      <th>10935</th>\n",
              "      <td>2021-04-11</td>\n",
              "      <td>3837.84</td>\n",
              "    </tr>\n",
              "    <tr>\n",
              "      <th>10936</th>\n",
              "      <td>2021-05-11</td>\n",
              "      <td>3847.40</td>\n",
              "    </tr>\n",
              "    <tr>\n",
              "      <th>10937</th>\n",
              "      <td>2021-06-11</td>\n",
              "      <td>3881.76</td>\n",
              "    </tr>\n",
              "    <tr>\n",
              "      <th>10938</th>\n",
              "      <td>2021-07-11</td>\n",
              "      <td>3881.76</td>\n",
              "    </tr>\n",
              "    <tr>\n",
              "      <th>10939</th>\n",
              "      <td>2021-08-11</td>\n",
              "      <td>3881.76</td>\n",
              "    </tr>\n",
              "  </tbody>\n",
              "</table>\n",
              "<p>10940 rows × 2 columns</p>\n",
              "</div>"
            ],
            "text/plain": [
              "           Fecha      TRM\n",
              "0     1991-11-27   693.32\n",
              "1     1991-11-28   693.99\n",
              "2     1991-11-29   694.70\n",
              "3     1991-11-30   694.70\n",
              "4     1991-01-12   643.42\n",
              "...          ...      ...\n",
              "10935 2021-04-11  3837.84\n",
              "10936 2021-05-11  3847.40\n",
              "10937 2021-06-11  3881.76\n",
              "10938 2021-07-11  3881.76\n",
              "10939 2021-08-11  3881.76\n",
              "\n",
              "[10940 rows x 2 columns]"
            ]
          },
          "metadata": {},
          "execution_count": 107
        }
      ]
    },
    {
      "cell_type": "code",
      "metadata": {
        "colab": {
          "base_uri": "https://localhost:8080/",
          "height": 718
        },
        "id": "YoEvJ8z4oSU5",
        "outputId": "bd9a538f-37cf-4236-97c4-ae86cd2b58c1"
      },
      "source": [
        "\n",
        "plt.figure(figsize=(12,12))\n",
        "plt.plot_date(df['Fecha'],df['TRM'], color = 'red')\n"
      ],
      "execution_count": 109,
      "outputs": [
        {
          "output_type": "execute_result",
          "data": {
            "text/plain": [
              "[<matplotlib.lines.Line2D at 0x7f954e49b9d0>]"
            ]
          },
          "metadata": {},
          "execution_count": 109
        },
        {
          "output_type": "display_data",
          "data": {
            "image/png": "[encoded data removed]",
            "text/plain": [
              "<Figure size 864x864 with 1 Axes>"
            ]
          },
          "metadata": {
            "needs_background": "light"
          }
        }
      ]
    },
    {
      "cell_type": "code",
      "metadata": {
        "colab": {
          "base_uri": "https://localhost:8080/",
          "height": 718
        },
        "id": "bQqYV9RaJioH",
        "outputId": "5d9ba179-0b3b-436d-c80d-6bcc5ffebb3f"
      },
      "source": [
        "df_año = df[df.Fecha.dt.year == 2021]\n",
        "df_sort = df_año.sort_values('Fecha', ascending= False)\n",
        "plt.figure(figsize=(12,12))\n",
        "plt.bar(df['Fecha'],df['TRM'], color = 'red')"
      ],
      "execution_count": 99,
      "outputs": [
        {
          "output_type": "execute_result",
          "data": {
            "text/plain": [
              "<BarContainer object of 312 artists>"
            ]
          },
          "metadata": {},
          "execution_count": 99
        },
        {
          "output_type": "display_data",
          "data": {
            "image/png": "[encoded data removed]",
            "text/plain": [
              "<Figure size 864x864 with 1 Axes>"
            ]
          },
          "metadata": {
            "needs_background": "light"
          }
        }
      ]
    }
  ]
}
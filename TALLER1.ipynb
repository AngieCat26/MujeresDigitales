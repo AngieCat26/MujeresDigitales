{
  "nbformat": 4,
  "nbformat_minor": 0,
  "metadata": {
    "colab": {
      "name": "TALLER1.ipynb",
      "provenance": [],
      "collapsed_sections": [],
      "authorship_tag": "ABX9TyNOzESOJXDXJZdobw0SlOeT",
      "include_colab_link": true
    },
    "kernelspec": {
      "name": "python3",
      "display_name": "Python 3"
    },
    "language_info": {
      "name": "python"
    }
  },
  "cells": [
    {
      "cell_type": "markdown",
      "metadata": {
        "id": "view-in-github",
        "colab_type": "text"
      },
      "source": [
        "<a href=\"https://colab.research.google.com/github/AngieCat26/MujeresDigitales/blob/main/TALLER1.ipynb\" target=\"_parent\"><img src=\"https://colab.research.google.com/assets/colab-badge.svg\" alt=\"Open In Colab\"/></a>"
      ]
    },
    {
      "cell_type": "markdown",
      "metadata": {
        "id": "2GjchNdKypNO"
      },
      "source": [
        "**PUNTO 2 **"
      ]
    },
    {
      "cell_type": "code",
      "metadata": {
        "id": "kjGBMeoeW_25",
        "colab": {
          "base_uri": "https://localhost:8080/"
        },
        "outputId": "397fbbc2-c146-433c-eec5-0386a76905e2"
      },
      "source": [
        "premio1 = \"Viaje todo incluído para dos personas a San Andrés\"\n",
        "premio2 = \"una pasadía a los termales de San Vicente incluyendo almuerzo\"\n",
        "premio3 = \"Viaje todo incluido para dos personas a Santa Marta\"\n",
        "premio4 = \"Pasadía al desierto de Tatacoa (Sin incluír alimentación)\"\n",
        "\n",
        "\n",
        "rosada = premio1\n",
        "verde = premio2\n",
        "azul = premio3\n",
        "gris = premio4\n",
        "roja = \"No hay premio\"\n",
        "\n",
        "\n",
        "cliente = input(\"por favor digite el nombre del concursante \")\n",
        "balota = input(\"Digite el color de la balota \")\n",
        "valorVariable = int(input(\"Digite un valor variable \"))\n",
        "\n",
        "\n",
        "antiguedad = int(input(\"Digite los años de antiguedad del cliente \"))\n",
        "referidos = int(input(\"Digite los referidos del cliente \"))\n",
        "liderazgo = input(\"¿El cliente tiene liderazgo en los programas de cooperación de viajes internos? \")\n",
        "\n",
        "\n",
        "\n",
        "if balota == \"rosada\":\n",
        "  print(\"La empresa VIVAFLY se complace en anunciar que La participante \",cliente,\" ganó un \", rosada, \" en nuestro sorteo de viajes de AMOR y AMISTAD\")\n",
        "  valorVariable1 = valorVariable * 0.15\n",
        "  if valorVariable < 120000:\n",
        "     print(\"El cliente \",cliente,\" también recibirá dos boletas de cine 4D con un combo de palomitas\")\n",
        "  else :\n",
        "     print(\"El cliente \", cliente, \" también recibirá un bono de $\",valorVariable1)\n",
        "\n",
        "     \n",
        "elif balota == \"verde\":\n",
        "  print(\"La empresa VIVAFLY se complace en anunciar que La participante \",cliente,\" ganó \", verde, \" en nuestro sorteo de viajes de AMOR y AMISTAD\")\n",
        "  valorVariable2 = valorVariable * 0.20\n",
        "  if valorVariable < 120000:\n",
        "     print(\"El cliente \",cliente,\" también recibirá dos boletas de cine 4D con un combo de palomitas\")\n",
        "  else :\n",
        "     print(\"El cliente \", cliente, \" también recibirá un bono de $\",valorVariable2)\n",
        "\n",
        "\n",
        "elif balota == \"azul\":\n",
        "  print(\"La empresa VIVAFLY se complace en anunciar que La participante \",cliente,\" ganó \", azul, \" en nuestro sorteo de viajes de AMOR y AMISTAD\")\n",
        "  valorVariable3 = valorVariable * 0.05\n",
        "  if valorVariable < 120000:\n",
        "     print(\"El cliente \",cliente,\" también recibirá dos boletas de cine 4D con un combo de palomitas\")\n",
        "  else :\n",
        "     print(\"El cliente \", cliente, \" también recibirá un bono de $\",valorVariable3)\n",
        "\n",
        "\n",
        "elif balota == \"gris\":\n",
        "  print(\"La empresa VIVAFLY se complace en anunciar que La participante \",cliente,\" ganó \", gris, \" en nuestro sorteo de viajes de AMOR y AMISTAD\")\n",
        "  valorVariable4 = valorVariable * 0.20\n",
        "  if valorVariable < 120000:\n",
        "     print(\"El cliente \",cliente,\" también recibirá dos boletas de cine 4D con un combo de palomitas\")\n",
        "  else :\n",
        "     print(\"El cliente \", cliente, \" también recibirá un bono de $\",valorVariable4)\n",
        "\n",
        "else :\n",
        "    print(\"La empresa VIVAFLY se complace en anunciar que La participante \",cliente,\" ganó $120.000\")\n",
        "\n",
        "\n",
        "\n",
        "#si se cumple los 3:\n",
        "\n",
        "if antiguedad > 10 and referidos > 10 and liderazgo == \"si\" :\n",
        "  puntos = valorVariable * 0.50\n",
        "  print(\"Adicionalmente:\")\n",
        "  if puntos > 600000 :  \n",
        "    puntos = 500 * 0.20  \n",
        "    print(\"Se le otorga \",puntos, \" puntos para redimir en un premio a futuro\")\n",
        "  else :\n",
        "    puntos = 250 * 0.20 \n",
        "    print(\"Se le otorga \", puntos, \" puntos para redimir en un premio a futuro\")\n",
        "\n",
        "#Si se cumple solo dos requisitos:\n",
        "\n",
        "elif antiguedad > 10 and referidos > 10 :\n",
        "  puntos = valorVariable * 0.50\n",
        "  print(\"Adicionalmente: \")\n",
        "  if puntos > 250000 :\n",
        "    puntos = 200 * 0.20     \n",
        "    print(\"Se le otorga \", puntos, \" puntos para redimir en un premio a futuro\")\n",
        "  else :\n",
        "    puntos = 50 * 0.20  \n",
        "    print(\"Se le otorga \", puntos, \" puntos para redimir en un premio a futuro\")\n",
        "\n",
        "elif antiguedad > 10 and liderazgo == \"si\" :\n",
        "  puntos = valorVariable * 0.50\n",
        "  print(\"Adicionalmente: \")\n",
        "  if puntos > 250000 : \n",
        "    puntos = 200 * 0.20  \n",
        "    print(\"Se le otorga \", puntos, \" puntos para redimir en un premio a futuro\")\n",
        "  else :\n",
        "    puntos = 50 * 0.20  \n",
        "    print(\"Se le otorga \", puntos, \"puntos para redimir en un premio a futuro\")\n",
        "\n",
        "elif referido > 10 and liderazgo ==\"si\" :\n",
        "  puntos = valorVariable * 0.30\n",
        "  print(\"Adicionalmente: \")\n",
        "  if puntos > 250000 :  \n",
        "    puntos = 200 * 0.20  \n",
        "    print(\"Se le otorga 200 puntos para redimir en un premio a futuro\")\n",
        "  else :\n",
        "    puntos = 50 * 0.20 \n",
        "    print(\"Se le otorga 50 puntos para redimir en un premio a futuro\")\n",
        "\n",
        "\n",
        "#Solo si se cumple uno\n",
        "else : \n",
        "  puntos = valorVariable * 0.10\n",
        "  puntos = puntos * 0.10\n",
        "  print(\"Adicionalmente se se le otorga\", puntos, \"puntos para redimir en un premio a futuro\")\n"
      ],
      "execution_count": 11,
      "outputs": [
        {
          "output_type": "stream",
          "text": [
            "por favor digite el nombre del concursante Angie\n",
            "Digite el color de la balota rosada\n",
            "Digite un valor variable 500000\n",
            "Digite los años de antiguedad del cliente 11\n",
            "Digite los referidos del cliente 11\n",
            "¿El cliente tiene liderazgo en los programas de cooperación de viajes internos? si\n",
            "La empresa VIVAFLY se complace en anunciar que La participante  Angie  ganó un  Viaje todo incluído para dos personas a San Andrés  en nuestro sorteo de viajes de AMOR y AMISTAD\n",
            "El cliente  Angie  también recibirá un bono de $ 75000.0\n",
            "Adicionalmente:\n",
            "Se le otorga  50.0  puntos para redimir en un premio a futuro\n"
          ],
          "name": "stdout"
        }
      ]
    }
  ]
}
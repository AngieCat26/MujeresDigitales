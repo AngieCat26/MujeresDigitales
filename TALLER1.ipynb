{
  "nbformat": 4,
  "nbformat_minor": 0,
  "metadata": {
    "colab": {
      "name": "Untitled9.ipynb",
      "provenance": [],
      "collapsed_sections": [],
      "authorship_tag": "ABX9TyOOoWUYEzMsX1PoPBkzg3gR",
      "include_colab_link": true
    },
    "kernelspec": {
      "name": "python3",
      "display_name": "Python 3"
    },
    "language_info": {
      "name": "python"
    }
  },
  "cells": [
    {
      "cell_type": "markdown",
      "metadata": {
        "id": "view-in-github",
        "colab_type": "text"
      },
      "source": [
        "<a href=\"https://colab.research.google.com/github/AngieCat26/MujeresDigitales/blob/main/TALLER1.ipynb\" target=\"_parent\"><img src=\"https://colab.research.google.com/assets/colab-badge.svg\" alt=\"Open In Colab\"/></a>"
      ]
    },
    {
      "cell_type": "markdown",
      "metadata": {
        "id": "2GjchNdKypNO"
      },
      "source": [
        "**PUNTO 2 **"
      ]
    },
    {
      "cell_type": "code",
      "metadata": {
        "colab": {
          "base_uri": "https://localhost:8080/"
        },
        "id": "kjGBMeoeW_25",
        "outputId": "4cf760d0-18c0-4795-85ce-76a77d97f921"
      },
      "source": [
        "premio1 = \"Viaje todo incluído para dos personas a San Andrés\"\n",
        "premio2 = \"una pasadía a los termales de San Vicente incluyendo almuerzo\"\n",
        "premio3 = \"Viaje todo incluido para dos personas a Santa Marta\"\n",
        "premio4 = \"Pasadía al desierto de Tatacoa (Sin incluír alimentación\"\n",
        "\n",
        "\n",
        "rosada = (1000000*15)/100\n",
        "verde = (1000000*20)/100\n",
        "azul = (1000000*5)/100\n",
        "gris = (1000000*20)/100\n",
        "roja = (1000000*40)/100\n",
        "\n",
        "cliente = input(\"por favor digite el nombre del concursante \")\n",
        "balota = input(\"Digite el color de la balota \")\n",
        "\n",
        "if balota1 == \"rosada\":\n",
        "  print(\"El concursante \", cliente, \" ganó el premio de un \", premio1)\n",
        "  if rosada < 120000:\n",
        "     print(cliente,\" recibirá dos boletas de cine 4D con un combo de palomitas\")\n",
        "    \n",
        "elif balota1 == \"verde\":\n",
        "  print(\"El concursante \", cliente, \" ganó el premio de \", premio2)\n",
        "  if verde < 120000:\n",
        "      print(cliente,\" recibirá dos boletas de cine 4D con un combo de palomitas\")\n",
        "\n",
        "elif balota1 == \"azul\" :\n",
        "  print(\"El concursante \", cliente, \" ganó el premio de un \", premio3)\n",
        "  if azul < 120000:\n",
        "     print(cliente,\" recibirá dos boletas de cine 4D con un combo de palomitas\")\n",
        "\n",
        "elif balota1 == \"gris\":\n",
        "  print(\"El concursante \", cliente, \" ganó el premio de una \", premio4)\n",
        "  if gris < 120000:\n",
        "     print(cliente,\" recibirá dos boletas de cine 4D con un combo de palomitas\")\n",
        "else :\n",
        "  print(\"El concursante \", cliente, \" no ganó ningun premio \")\n",
        "  print(\"El concursante\", cliente, \" recibirá $120.000 en efectivo\")\n",
        "\n",
        "\n",
        "\n",
        "\n",
        "\n",
        "\n"
      ],
      "execution_count": null,
      "outputs": [
        {
          "output_type": "stream",
          "text": [
            "por favor digite el nombre del concursante K\n"
          ],
          "name": "stdout"
        }
      ]
    }
  ]
}